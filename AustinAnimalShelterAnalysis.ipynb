{
 "cells": [
  {
   "cell_type": "code",
   "execution_count": 1,
   "metadata": {},
   "outputs": [],
   "source": [
    "import pandas as pd\n",
    "import numpy as np\n",
    "import matplotlib.pyplot as plt\n",
    "import seaborn as sns\n",
    "import datetime\n",
    "import re\n",
    "%matplotlib inline"
   ]
  },
  {
   "cell_type": "code",
   "execution_count": 2,
   "metadata": {},
   "outputs": [],
   "source": [
    "shelterDf = pd.read_csv('Austin_Animal_Center_Outcomes.csv')"
   ]
  },
  {
   "cell_type": "code",
   "execution_count": 3,
   "metadata": {
    "scrolled": true
   },
   "outputs": [
    {
     "data": {
      "text/html": [
       "<div>\n",
       "<style scoped>\n",
       "    .dataframe tbody tr th:only-of-type {\n",
       "        vertical-align: middle;\n",
       "    }\n",
       "\n",
       "    .dataframe tbody tr th {\n",
       "        vertical-align: top;\n",
       "    }\n",
       "\n",
       "    .dataframe thead th {\n",
       "        text-align: right;\n",
       "    }\n",
       "</style>\n",
       "<table border=\"1\" class=\"dataframe\">\n",
       "  <thead>\n",
       "    <tr style=\"text-align: right;\">\n",
       "      <th></th>\n",
       "      <th>Animal ID</th>\n",
       "      <th>Name</th>\n",
       "      <th>DateTime</th>\n",
       "      <th>MonthYear</th>\n",
       "      <th>Date of Birth</th>\n",
       "      <th>Outcome Type</th>\n",
       "      <th>Outcome Subtype</th>\n",
       "      <th>Animal Type</th>\n",
       "      <th>Sex upon Outcome</th>\n",
       "      <th>Age upon Outcome</th>\n",
       "      <th>Breed</th>\n",
       "      <th>Color</th>\n",
       "    </tr>\n",
       "  </thead>\n",
       "  <tbody>\n",
       "    <tr>\n",
       "      <th>0</th>\n",
       "      <td>A682730</td>\n",
       "      <td>Freddy</td>\n",
       "      <td>03/19/2019 06:54:00 PM</td>\n",
       "      <td>03/19/2019 06:54:00 PM</td>\n",
       "      <td>07/04/2013</td>\n",
       "      <td>Return to Owner</td>\n",
       "      <td>NaN</td>\n",
       "      <td>Dog</td>\n",
       "      <td>Neutered Male</td>\n",
       "      <td>5 years</td>\n",
       "      <td>Pit Bull Mix</td>\n",
       "      <td>Fawn</td>\n",
       "    </tr>\n",
       "    <tr>\n",
       "      <th>1</th>\n",
       "      <td>A790982</td>\n",
       "      <td>Blue</td>\n",
       "      <td>03/19/2019 06:54:00 PM</td>\n",
       "      <td>03/19/2019 06:54:00 PM</td>\n",
       "      <td>12/19/2017</td>\n",
       "      <td>Return to Owner</td>\n",
       "      <td>NaN</td>\n",
       "      <td>Dog</td>\n",
       "      <td>Intact Male</td>\n",
       "      <td>1 year</td>\n",
       "      <td>Pit Bull Mix</td>\n",
       "      <td>Blue/White</td>\n",
       "    </tr>\n",
       "    <tr>\n",
       "      <th>2</th>\n",
       "      <td>A790653</td>\n",
       "      <td>*O'Brian</td>\n",
       "      <td>03/19/2019 06:35:00 PM</td>\n",
       "      <td>03/19/2019 06:35:00 PM</td>\n",
       "      <td>09/13/2017</td>\n",
       "      <td>Adoption</td>\n",
       "      <td>NaN</td>\n",
       "      <td>Dog</td>\n",
       "      <td>Spayed Female</td>\n",
       "      <td>1 year</td>\n",
       "      <td>Pembroke Welsh Corgi Mix</td>\n",
       "      <td>Red/White</td>\n",
       "    </tr>\n",
       "    <tr>\n",
       "      <th>3</th>\n",
       "      <td>A475011</td>\n",
       "      <td>Tobie</td>\n",
       "      <td>03/19/2019 06:14:00 PM</td>\n",
       "      <td>03/19/2019 06:14:00 PM</td>\n",
       "      <td>05/11/2006</td>\n",
       "      <td>Return to Owner</td>\n",
       "      <td>NaN</td>\n",
       "      <td>Dog</td>\n",
       "      <td>Intact Male</td>\n",
       "      <td>12 years</td>\n",
       "      <td>German Shepherd Mix</td>\n",
       "      <td>Black/White</td>\n",
       "    </tr>\n",
       "    <tr>\n",
       "      <th>4</th>\n",
       "      <td>A790581</td>\n",
       "      <td>Mia</td>\n",
       "      <td>03/19/2019 06:11:00 PM</td>\n",
       "      <td>03/19/2019 06:11:00 PM</td>\n",
       "      <td>03/12/2018</td>\n",
       "      <td>Adoption</td>\n",
       "      <td>NaN</td>\n",
       "      <td>Dog</td>\n",
       "      <td>Spayed Female</td>\n",
       "      <td>1 year</td>\n",
       "      <td>Pit Bull Mix</td>\n",
       "      <td>Black/White</td>\n",
       "    </tr>\n",
       "  </tbody>\n",
       "</table>\n",
       "</div>"
      ],
      "text/plain": [
       "  Animal ID      Name                DateTime               MonthYear  \\\n",
       "0   A682730    Freddy  03/19/2019 06:54:00 PM  03/19/2019 06:54:00 PM   \n",
       "1   A790982      Blue  03/19/2019 06:54:00 PM  03/19/2019 06:54:00 PM   \n",
       "2   A790653  *O'Brian  03/19/2019 06:35:00 PM  03/19/2019 06:35:00 PM   \n",
       "3   A475011     Tobie  03/19/2019 06:14:00 PM  03/19/2019 06:14:00 PM   \n",
       "4   A790581       Mia  03/19/2019 06:11:00 PM  03/19/2019 06:11:00 PM   \n",
       "\n",
       "  Date of Birth     Outcome Type Outcome Subtype Animal Type Sex upon Outcome  \\\n",
       "0    07/04/2013  Return to Owner             NaN         Dog    Neutered Male   \n",
       "1    12/19/2017  Return to Owner             NaN         Dog      Intact Male   \n",
       "2    09/13/2017         Adoption             NaN         Dog    Spayed Female   \n",
       "3    05/11/2006  Return to Owner             NaN         Dog      Intact Male   \n",
       "4    03/12/2018         Adoption             NaN         Dog    Spayed Female   \n",
       "\n",
       "  Age upon Outcome                     Breed        Color  \n",
       "0          5 years              Pit Bull Mix         Fawn  \n",
       "1           1 year              Pit Bull Mix   Blue/White  \n",
       "2           1 year  Pembroke Welsh Corgi Mix    Red/White  \n",
       "3         12 years       German Shepherd Mix  Black/White  \n",
       "4           1 year              Pit Bull Mix  Black/White  "
      ]
     },
     "execution_count": 3,
     "metadata": {},
     "output_type": "execute_result"
    }
   ],
   "source": [
    "shelterDf.head()"
   ]
  },
  {
   "cell_type": "code",
   "execution_count": 4,
   "metadata": {},
   "outputs": [
    {
     "name": "stdout",
     "output_type": "stream",
     "text": [
      "<class 'pandas.core.frame.DataFrame'>\n",
      "RangeIndex: 97101 entries, 0 to 97100\n",
      "Data columns (total 12 columns):\n",
      "Animal ID           97101 non-null object\n",
      "Name                67197 non-null object\n",
      "DateTime            97101 non-null object\n",
      "MonthYear           97101 non-null object\n",
      "Date of Birth       97101 non-null object\n",
      "Outcome Type        97093 non-null object\n",
      "Outcome Subtype     43953 non-null object\n",
      "Animal Type         97101 non-null object\n",
      "Sex upon Outcome    97099 non-null object\n",
      "Age upon Outcome    97093 non-null object\n",
      "Breed               97101 non-null object\n",
      "Color               97101 non-null object\n",
      "dtypes: object(12)\n",
      "memory usage: 8.9+ MB\n"
     ]
    }
   ],
   "source": [
    "shelterDf.info()"
   ]
  },
  {
   "cell_type": "code",
   "execution_count": 5,
   "metadata": {
    "scrolled": true
   },
   "outputs": [
    {
     "data": {
      "text/plain": [
       "Animal ID           87157\n",
       "Name                16563\n",
       "DateTime            80244\n",
       "MonthYear           80244\n",
       "Date of Birth        6371\n",
       "Outcome Type            9\n",
       "Outcome Subtype        20\n",
       "Animal Type             5\n",
       "Sex upon Outcome        5\n",
       "Age upon Outcome       49\n",
       "Breed                2372\n",
       "Color                 567\n",
       "dtype: int64"
      ]
     },
     "execution_count": 5,
     "metadata": {},
     "output_type": "execute_result"
    }
   ],
   "source": [
    "shelterDf.nunique()"
   ]
  },
  {
   "cell_type": "code",
   "execution_count": 6,
   "metadata": {},
   "outputs": [
    {
     "data": {
      "text/plain": [
       "Dog          55508\n",
       "Cat          35964\n",
       "Other         5165\n",
       "Bird           452\n",
       "Livestock       12\n",
       "Name: Animal Type, dtype: int64"
      ]
     },
     "execution_count": 6,
     "metadata": {},
     "output_type": "execute_result"
    }
   ],
   "source": [
    "shelterDf['Animal Type'].value_counts()"
   ]
  },
  {
   "cell_type": "markdown",
   "metadata": {},
   "source": [
    "We're going to focus on cats and dogs"
   ]
  },
  {
   "cell_type": "markdown",
   "metadata": {},
   "source": [
    "**Clean Data**"
   ]
  },
  {
   "cell_type": "markdown",
   "metadata": {},
   "source": [
    "There is a lot of subjectivity in determining an animals breed and color e.g. many of the colors/breeds have only one animal assigned to that type. Therefore, we are only going to be looking at the top 10 breeds and drop the color feature"
   ]
  },
  {
   "cell_type": "code",
   "execution_count": 7,
   "metadata": {},
   "outputs": [
    {
     "name": "stdout",
     "output_type": "stream",
     "text": [
      "--Breeds--\n",
      "Miniature Poodle/English Cocker Spaniel    1\n",
      "Labrador Retriever/English Bulldog         1\n",
      "Chinese Sharpei/Black Mouth Cur            1\n",
      "English Coonhound/Italian Greyhound        1\n",
      "Great Pyrenees/Rat Terrier                 1\n",
      "Catahoula/Jack Russell Terrier             1\n",
      "Angora-Satin Mix                           1\n",
      "Norfolk Terrier/Bruss Griffon              1\n",
      "Wire Hair Fox Terrier/German Shepherd      1\n",
      "Burmese Mix                                1\n",
      "Name: Breed, dtype: int64\n",
      "--Colors--\n",
      "Brown Tabby/Black Brindle    1\n",
      "White/Flame Point            1\n",
      "Black Brindle/Blue Tick      1\n",
      "Black Smoke/Brown Tabby      1\n",
      "Tricolor/Calico              1\n",
      "Cream/Cream                  1\n",
      "Agouti/Cream                 1\n",
      "Calico/Calico                1\n",
      "Gray/Blue Merle              1\n",
      "Yellow/Red                   1\n",
      "Name: Color, dtype: int64\n"
     ]
    }
   ],
   "source": [
    "print('--Breeds--')\n",
    "print(shelterDf['Breed'].value_counts().tail(10))\n",
    "print('--Colors--')\n",
    "print(shelterDf['Color'].value_counts().tail(10))"
   ]
  },
  {
   "cell_type": "code",
   "execution_count": 8,
   "metadata": {},
   "outputs": [
    {
     "name": "stdout",
     "output_type": "stream",
     "text": [
      "Number of Breeds: 10\n",
      "Number of Animals: 58935\n"
     ]
    }
   ],
   "source": [
    "shelterDf = shelterDf[shelterDf.groupby('Breed').Breed.transform(len) > 1000]\n",
    "print('Number of Breeds: ' + str(shelterDf['Breed'].nunique()))\n",
    "print('Number of Animals: ' + str(shelterDf['Breed'].count()))"
   ]
  },
  {
   "cell_type": "code",
   "execution_count": 9,
   "metadata": {},
   "outputs": [
    {
     "name": "stdout",
     "output_type": "stream",
     "text": [
      "Bat Mix    1680\n",
      "Name: Breed, dtype: int64\n",
      "Euthanasia    1464\n",
      "Disposal       169\n",
      "Died            44\n",
      "Name: Outcome Type, dtype: int64\n"
     ]
    }
   ],
   "source": [
    "print(shelterDf[shelterDf['Animal Type'] == 'Other']['Breed'].value_counts())\n",
    "print(shelterDf[shelterDf['Animal Type'] == 'Other']['Outcome Type'].value_counts())"
   ]
  },
  {
   "cell_type": "markdown",
   "metadata": {},
   "source": [
    "The animals in the 'other' category are all bats and I highly doubt bats are up for adoption. They will be dropped from the data set"
   ]
  },
  {
   "cell_type": "code",
   "execution_count": 10,
   "metadata": {},
   "outputs": [],
   "source": [
    "shelterDf = shelterDf[shelterDf['Animal Type'] != 'Other']"
   ]
  },
  {
   "cell_type": "code",
   "execution_count": 11,
   "metadata": {
    "scrolled": true
   },
   "outputs": [
    {
     "data": {
      "image/png": "[encoded data removed]",
      "text/plain": [
       "<Figure size 432x288 with 1 Axes>"
      ]
     },
     "metadata": {
      "needs_background": "light"
     },
     "output_type": "display_data"
    }
   ],
   "source": [
    "shelterDf['Outcome Type'].value_counts().plot(kind = 'bar', title = 'Number of Each Outcome')\n",
    "plt.show()"
   ]
  },
  {
   "cell_type": "markdown",
   "metadata": {},
   "source": [
    "Seems to be a pretty effective shelter although transfer doesn't mean adopted rather they were trasfered to another facility "
   ]
  },
  {
   "cell_type": "code",
   "execution_count": 12,
   "metadata": {
    "scrolled": false
   },
   "outputs": [
    {
     "data": {
      "image/png": "[encoded data removed]",
      "text/plain": [
       "<Figure size 432x288 with 2 Axes>"
      ]
     },
     "metadata": {
      "needs_background": "light"
     },
     "output_type": "display_data"
    }
   ],
   "source": [
    "sns.heatmap(shelterDf.isnull())\n",
    "plt.show()"
   ]
  },
  {
   "cell_type": "code",
   "execution_count": 13,
   "metadata": {},
   "outputs": [
    {
     "data": {
      "text/plain": [
       "Animal ID               0\n",
       "Name                19061\n",
       "DateTime                0\n",
       "MonthYear               0\n",
       "Date of Birth           0\n",
       "Outcome Type            3\n",
       "Outcome Subtype     28595\n",
       "Animal Type             0\n",
       "Sex upon Outcome        1\n",
       "Age upon Outcome        4\n",
       "Breed                   0\n",
       "Color                   0\n",
       "dtype: int64"
      ]
     },
     "execution_count": 13,
     "metadata": {},
     "output_type": "execute_result"
    }
   ],
   "source": [
    "shelterDf.isnull().sum()"
   ]
  },
  {
   "cell_type": "markdown",
   "metadata": {},
   "source": [
    "Will be best to just drop Name and Outcome Subtype (will drop later)"
   ]
  },
  {
   "cell_type": "code",
   "execution_count": 14,
   "metadata": {},
   "outputs": [],
   "source": [
    "# Add feature 'Was Adopted', 1 is adopted, 0 not adopted\n",
    "shelterDf['Was Adopted'] = shelterDf['Outcome Type'].apply(lambda x: 1 if x == 'Adoption' else 0)"
   ]
  },
  {
   "cell_type": "code",
   "execution_count": 15,
   "metadata": {},
   "outputs": [],
   "source": [
    "# If the 'name' column has a float then its NaN\n",
    "shelterDf['Has Name'] = shelterDf['Name'].apply(lambda x: 1 if not isinstance(x, float) else 0)"
   ]
  },
  {
   "cell_type": "code",
   "execution_count": 16,
   "metadata": {},
   "outputs": [],
   "source": [
    "# Make 'datetime' and 'date_of_birth' datetime objects\n",
    "# There is several typos in Date of Birth so we'll drop those\n",
    "shelterDf['DateTime'] = shelterDf['DateTime'].apply(lambda x: datetime.datetime.strptime(x[0:-3], '%m/%d/%Y %H:%M:%S'))\n",
    "shelterDf['Date of Birth'] = shelterDf['Date of Birth'].apply(lambda x: datetime.datetime.strptime(x, '%m/%d/%Y'))"
   ]
  },
  {
   "cell_type": "code",
   "execution_count": 17,
   "metadata": {},
   "outputs": [],
   "source": [
    "# Make 'month' and 'year' features\n",
    "shelterDf['Month'] = shelterDf['DateTime'].apply(lambda x: x.month)\n",
    "shelterDf['Year'] = shelterDf['DateTime'].apply(lambda x: x.year)"
   ]
  },
  {
   "cell_type": "code",
   "execution_count": 18,
   "metadata": {
    "scrolled": true
   },
   "outputs": [],
   "source": [
    "# Change 'age upon outcome' to days for cosistency\n",
    "shelterDf['Age upon Outcome'] = shelterDf['DateTime'] - shelterDf['Date of Birth']\n",
    "daysRegex = re.compile('\\d+')\n",
    "shelterDf['Age upon Outcome'] = shelterDf['Age upon Outcome'].apply(lambda x: round(int(daysRegex.search(str(x)).group())))"
   ]
  },
  {
   "cell_type": "code",
   "execution_count": 19,
   "metadata": {},
   "outputs": [
    {
     "data": {
      "text/plain": [
       "2015    11034\n",
       "2016    10877\n",
       "2017    10726\n",
       "2014    10425\n",
       "2018     9913\n",
       "2013     2554\n",
       "2019     1726\n",
       "Name: Year, dtype: int64"
      ]
     },
     "execution_count": 19,
     "metadata": {},
     "output_type": "execute_result"
    }
   ],
   "source": [
    "# Data starts in 2013 and is incomplete\n",
    "shelterDf['Year'].value_counts()"
   ]
  },
  {
   "cell_type": "markdown",
   "metadata": {},
   "source": [
    "They started data collection in 2013 and its only March 2019 currently, so its expected to have much less animals in those years"
   ]
  },
  {
   "cell_type": "markdown",
   "metadata": {},
   "source": [
    "*Drop any columns that are no longer needed*"
   ]
  },
  {
   "cell_type": "code",
   "execution_count": 20,
   "metadata": {},
   "outputs": [],
   "source": [
    "# Drop Name and Outcome Subtype: too many NaN\n",
    "# Drop MonthYear: redundant\n",
    "# Drop Color\n",
    "# Drop Animal ID\n",
    "# Drop DateTime\n",
    "# Drop Date of Birth\n",
    "shelterDf.drop(['Date of Birth','DateTime', 'Name', 'Outcome Subtype', 'Outcome Type', 'MonthYear', 'Color', 'Animal ID'], axis = 1, inplace = True)\n",
    "shelterDf.dropna(inplace = True)"
   ]
  },
  {
   "cell_type": "code",
   "execution_count": 21,
   "metadata": {},
   "outputs": [
    {
     "data": {
      "text/plain": [
       "Animal Type         0\n",
       "Sex upon Outcome    0\n",
       "Age upon Outcome    0\n",
       "Breed               0\n",
       "Was Adopted         0\n",
       "Has Name            0\n",
       "Month               0\n",
       "Year                0\n",
       "dtype: int64"
      ]
     },
     "execution_count": 21,
     "metadata": {},
     "output_type": "execute_result"
    }
   ],
   "source": [
    "shelterDf.isnull().sum()"
   ]
  },
  {
   "cell_type": "code",
   "execution_count": 22,
   "metadata": {
    "scrolled": true
   },
   "outputs": [
    {
     "data": {
      "text/html": [
       "<div>\n",
       "<style scoped>\n",
       "    .dataframe tbody tr th:only-of-type {\n",
       "        vertical-align: middle;\n",
       "    }\n",
       "\n",
       "    .dataframe tbody tr th {\n",
       "        vertical-align: top;\n",
       "    }\n",
       "\n",
       "    .dataframe thead th {\n",
       "        text-align: right;\n",
       "    }\n",
       "</style>\n",
       "<table border=\"1\" class=\"dataframe\">\n",
       "  <thead>\n",
       "    <tr style=\"text-align: right;\">\n",
       "      <th></th>\n",
       "      <th>Animal Type</th>\n",
       "      <th>Sex upon Outcome</th>\n",
       "      <th>Age upon Outcome</th>\n",
       "      <th>Breed</th>\n",
       "      <th>Was Adopted</th>\n",
       "      <th>Has Name</th>\n",
       "      <th>Month</th>\n",
       "      <th>Year</th>\n",
       "    </tr>\n",
       "  </thead>\n",
       "  <tbody>\n",
       "    <tr>\n",
       "      <th>0</th>\n",
       "      <td>Dog</td>\n",
       "      <td>Neutered Male</td>\n",
       "      <td>2084</td>\n",
       "      <td>Pit Bull Mix</td>\n",
       "      <td>0</td>\n",
       "      <td>1</td>\n",
       "      <td>3</td>\n",
       "      <td>2019</td>\n",
       "    </tr>\n",
       "    <tr>\n",
       "      <th>1</th>\n",
       "      <td>Dog</td>\n",
       "      <td>Intact Male</td>\n",
       "      <td>455</td>\n",
       "      <td>Pit Bull Mix</td>\n",
       "      <td>0</td>\n",
       "      <td>1</td>\n",
       "      <td>3</td>\n",
       "      <td>2019</td>\n",
       "    </tr>\n",
       "    <tr>\n",
       "      <th>2</th>\n",
       "      <td>Dog</td>\n",
       "      <td>Intact Male</td>\n",
       "      <td>4695</td>\n",
       "      <td>German Shepherd Mix</td>\n",
       "      <td>0</td>\n",
       "      <td>1</td>\n",
       "      <td>3</td>\n",
       "      <td>2019</td>\n",
       "    </tr>\n",
       "  </tbody>\n",
       "</table>\n",
       "</div>"
      ],
      "text/plain": [
       "  Animal Type Sex upon Outcome  Age upon Outcome                Breed  \\\n",
       "0         Dog    Neutered Male              2084         Pit Bull Mix   \n",
       "1         Dog      Intact Male               455         Pit Bull Mix   \n",
       "2         Dog      Intact Male              4695  German Shepherd Mix   \n",
       "\n",
       "   Was Adopted  Has Name  Month  Year  \n",
       "0            0         1      3  2019  \n",
       "1            0         1      3  2019  \n",
       "2            0         1      3  2019  "
      ]
     },
     "execution_count": 22,
     "metadata": {},
     "output_type": "execute_result"
    }
   ],
   "source": [
    "shelterDf.reset_index(inplace=True, drop=True)\n",
    "shelterDf.head(3)"
   ]
  },
  {
   "cell_type": "code",
   "execution_count": 23,
   "metadata": {},
   "outputs": [
    {
     "name": "stdout",
     "output_type": "stream",
     "text": [
      "<class 'pandas.core.frame.DataFrame'>\n",
      "RangeIndex: 57254 entries, 0 to 57253\n",
      "Data columns (total 8 columns):\n",
      "Animal Type         57254 non-null object\n",
      "Sex upon Outcome    57254 non-null object\n",
      "Age upon Outcome    57254 non-null int64\n",
      "Breed               57254 non-null object\n",
      "Was Adopted         57254 non-null int64\n",
      "Has Name            57254 non-null int64\n",
      "Month               57254 non-null int64\n",
      "Year                57254 non-null int64\n",
      "dtypes: int64(5), object(3)\n",
      "memory usage: 3.5+ MB\n"
     ]
    }
   ],
   "source": [
    "shelterDf.info()"
   ]
  },
  {
   "cell_type": "code",
   "execution_count": 24,
   "metadata": {
    "scrolled": false
   },
   "outputs": [
    {
     "data": {
      "image/png": "[encoded data removed]",
      "text/plain": [
       "<Figure size 1080x720 with 4 Axes>"
      ]
     },
     "metadata": {
      "needs_background": "light"
     },
     "output_type": "display_data"
    }
   ],
   "source": [
    "# Graphs of adoptions per year and per month\n",
    "fig, axes = plt.subplots(figsize = (15,10), ncols =2, nrows = 2)\n",
    "sns.countplot(shelterDf['Year'], hue = shelterDf['Was Adopted'], ax = axes[0,0]).set_title('Adoptions per Year')\n",
    "sns.countplot(shelterDf['Month'],hue = shelterDf['Was Adopted'], ax = axes[0,1]).set_title('Adoptions per Month')\n",
    "sns.countplot(shelterDf['Year'], ax = axes[1,0], color = 'cornflowerblue').set_title('Total Animals at Shelter per Year')\n",
    "sns.countplot(shelterDf['Month'], ax = axes[1,1], color = 'cornflowerblue').set_title('Total Animals at Shelter per Month')\n",
    "\n",
    "axes[0,0].set_ylabel('Number of Animals')\n",
    "axes[1,0].set_ylabel('Number of Animals')\n",
    "axes[0,1].set_ylabel('')\n",
    "axes[1,1].set_ylabel('')\n",
    "plt.show()"
   ]
  },
  {
   "cell_type": "markdown",
   "metadata": {},
   "source": [
    "There appears to be a slight increase in adoptions from 2014 to 2018 while the total number of animals remains the same.\n",
    "Adoptions in early months are significantly less than in later months but there are also less animals in the shelter in total. This makes sense since the increase in adoption at the end of the year will result in people not needing a pet and less animals in the shelter"
   ]
  },
  {
   "cell_type": "code",
   "execution_count": 25,
   "metadata": {},
   "outputs": [
    {
     "data": {
      "image/png": "[encoded data removed]",
      "text/plain": [
       "<Figure size 864x360 with 1 Axes>"
      ]
     },
     "metadata": {
      "needs_background": "light"
     },
     "output_type": "display_data"
    }
   ],
   "source": [
    "plt.figure(figsize= (12,5))\n",
    "sns.countplot(x = 'Breed', data = shelterDf, hue = 'Was Adopted')\n",
    "plt.tight_layout()\n",
    "plt.xticks(rotation = 90)\n",
    "plt.ylabel('Number of Animals')\n",
    "plt.show()"
   ]
  },
  {
   "cell_type": "markdown",
   "metadata": {},
   "source": [
    "It wouldn't seem that breed has much impact on whether an animal get adopted either and should be dropped during pre-processing. 'Domestic Shorthair Mix' is the most common breed. I assume that is because its difficult to classify cats any further than 'Short hair', 'Long hair', etc."
   ]
  },
  {
   "cell_type": "code",
   "execution_count": 26,
   "metadata": {},
   "outputs": [
    {
     "data": {
      "image/png": "[encoded data removed]",
      "text/plain": [
       "<Figure size 720x360 with 1 Axes>"
      ]
     },
     "metadata": {
      "needs_background": "light"
     },
     "output_type": "display_data"
    }
   ],
   "source": [
    "plt.figure(figsize= (10,5))\n",
    "df = shelterDf.sample(frac = 0.01).reset_index(drop=True)\n",
    "\n",
    "sns.countplot(shelterDf['Has Name'], hue = shelterDf['Was Adopted']).set_ylabel('Number of Animals')\n",
    "plt.show()"
   ]
  },
  {
   "cell_type": "markdown",
   "metadata": {},
   "source": [
    "It is clear that animals with names were much more likely to get adopted. This could be because a named animal is more likely to be well behaved and healthy, since it would likely have come from a home rather than the streets. However, there could also be cases were the shelter names found animals themselves. "
   ]
  },
  {
   "cell_type": "code",
   "execution_count": 27,
   "metadata": {},
   "outputs": [
    {
     "data": {
      "image/png": "[encoded data removed]",
      "text/plain": [
       "<Figure size 720x360 with 1 Axes>"
      ]
     },
     "metadata": {
      "needs_background": "light"
     },
     "output_type": "display_data"
    }
   ],
   "source": [
    "# Sex of adopted and not adopted animals\n",
    "adopted = dict(shelterDf[shelterDf['Was Adopted'] == 1]['Sex upon Outcome'].value_counts())\n",
    "allAni = dict(shelterDf['Sex upon Outcome'].value_counts())\n",
    "plt.figure(figsize = (10,5))\n",
    "plt.bar(allAni.keys(), allAni.values(), label = 'All Animals')\n",
    "plt.bar(adopted.keys(), adopted.values(), label = 'Adopted')\n",
    "plt.title('Number of Animals adopted based on Sex')\n",
    "plt.legend()\n",
    "plt.show()"
   ]
  },
  {
   "cell_type": "markdown",
   "metadata": {},
   "source": [
    "Of the animals adopted, none were of the 'unknown sex upon outcome' and very few were still 'Intact' males or females. The  conditions that would be required to make an animals sex unknown (unclean, sick, injured, etc) would make them undesirable for adoption.\n",
    "\n",
    "It would seem that if an animal is spayed or neutered will be a strong predictor of adoption."
   ]
  },
  {
   "cell_type": "code",
   "execution_count": 28,
   "metadata": {},
   "outputs": [
    {
     "data": {
      "image/png": "[encoded data removed]",
      "text/plain": [
       "<Figure size 720x360 with 1 Axes>"
      ]
     },
     "metadata": {
      "needs_background": "light"
     },
     "output_type": "display_data"
    }
   ],
   "source": [
    "adopted = dict(shelterDf[shelterDf['Was Adopted'] == 1]['Animal Type'].value_counts())\n",
    "allAni = dict(shelterDf['Animal Type'].value_counts())\n",
    "plt.figure(figsize = (10,5))\n",
    "plt.bar(allAni.keys(), allAni.values(), label = 'All Animals')\n",
    "plt.bar(adopted.keys(), adopted.values(), label = 'Adopted')\n",
    "plt.title('Number of Animals adopted based on Type')\n",
    "plt.legend()\n",
    "plt.show()"
   ]
  },
  {
   "cell_type": "markdown",
   "metadata": {},
   "source": [
    "The adoption of dogs and cats seems to be very similar based on the total number of cats and dogs e.g. ~50% of the cats and dogs at the shelter were adopted\n",
    "\n"
   ]
  },
  {
   "cell_type": "code",
   "execution_count": 29,
   "metadata": {},
   "outputs": [
    {
     "name": "stderr",
     "output_type": "stream",
     "text": [
      "C:\\Users\\TinyPoots\\Anaconda3\\lib\\site-packages\\scipy\\stats\\stats.py:1713: FutureWarning: Using a non-tuple sequence for multidimensional indexing is deprecated; use `arr[tuple(seq)]` instead of `arr[seq]`. In the future this will be interpreted as an array index, `arr[np.array(seq)]`, which will result either in an error or a different result.\n",
      "  return np.add.reduce(sorted[indexer] * weights, axis=axis) / sumval\n"
     ]
    },
    {
     "data": {
      "image/png": "[encoded data removed]",
      "text/plain": [
       "<Figure size 578.25x504 with 1 Axes>"
      ]
     },
     "metadata": {
      "needs_background": "light"
     },
     "output_type": "display_data"
    }
   ],
   "source": [
    "f = sns.FacetGrid(shelterDf, hue=\"Was Adopted\", height=7)\n",
    "f.map(sns.kdeplot, \"Age upon Outcome\") \n",
    "f.add_legend()\n",
    "plt.show()"
   ]
  },
  {
   "cell_type": "markdown",
   "metadata": {},
   "source": [
    "Clear that majority of adoptions and outcomes in general happen when the animals are young. There is a peak at about the 2 year mark (730 days). This could be due to the shelter having an age limit when an animals needs to be adopted, transfered, etc. This will likely be a strong predictor for the later models."
   ]
  },
  {
   "cell_type": "markdown",
   "metadata": {},
   "source": [
    "**Preproccessing for machine learning**"
   ]
  },
  {
   "cell_type": "markdown",
   "metadata": {},
   "source": [
    "Based on the previous graphs 'Year', 'Breed', and 'Animal Type' dont seem to have a significant impact on whether an animal will be adopted so they will be dropped."
   ]
  },
  {
   "cell_type": "code",
   "execution_count": 30,
   "metadata": {},
   "outputs": [],
   "source": [
    "shelterDf.drop(['Animal Type', 'Year', 'Breed'], axis = 1, inplace = True)"
   ]
  },
  {
   "cell_type": "markdown",
   "metadata": {},
   "source": [
    "'Sex upon outcome' needs to be encoded to dummy variables to be used by a machine learning model"
   ]
  },
  {
   "cell_type": "code",
   "execution_count": 31,
   "metadata": {},
   "outputs": [],
   "source": [
    "nominalFeatures = ['Sex upon Outcome']\n",
    "dummyDf = pd.get_dummies(shelterDf[nominalFeatures],drop_first=True)\n",
    "shelterDf = pd.concat([shelterDf, dummyDf], axis=1)\n",
    "shelterDf.drop(nominalFeatures, axis = 1, inplace = True)"
   ]
  },
  {
   "cell_type": "code",
   "execution_count": 32,
   "metadata": {},
   "outputs": [
    {
     "data": {
      "text/html": [
       "<div>\n",
       "<style scoped>\n",
       "    .dataframe tbody tr th:only-of-type {\n",
       "        vertical-align: middle;\n",
       "    }\n",
       "\n",
       "    .dataframe tbody tr th {\n",
       "        vertical-align: top;\n",
       "    }\n",
       "\n",
       "    .dataframe thead th {\n",
       "        text-align: right;\n",
       "    }\n",
       "</style>\n",
       "<table border=\"1\" class=\"dataframe\">\n",
       "  <thead>\n",
       "    <tr style=\"text-align: right;\">\n",
       "      <th></th>\n",
       "      <th>Age upon Outcome</th>\n",
       "      <th>Was Adopted</th>\n",
       "      <th>Has Name</th>\n",
       "      <th>Month</th>\n",
       "      <th>Sex upon Outcome_Intact Male</th>\n",
       "      <th>Sex upon Outcome_Neutered Male</th>\n",
       "      <th>Sex upon Outcome_Spayed Female</th>\n",
       "      <th>Sex upon Outcome_Unknown</th>\n",
       "    </tr>\n",
       "  </thead>\n",
       "  <tbody>\n",
       "    <tr>\n",
       "      <th>0</th>\n",
       "      <td>2084</td>\n",
       "      <td>0</td>\n",
       "      <td>1</td>\n",
       "      <td>3</td>\n",
       "      <td>0</td>\n",
       "      <td>1</td>\n",
       "      <td>0</td>\n",
       "      <td>0</td>\n",
       "    </tr>\n",
       "    <tr>\n",
       "      <th>1</th>\n",
       "      <td>455</td>\n",
       "      <td>0</td>\n",
       "      <td>1</td>\n",
       "      <td>3</td>\n",
       "      <td>1</td>\n",
       "      <td>0</td>\n",
       "      <td>0</td>\n",
       "      <td>0</td>\n",
       "    </tr>\n",
       "    <tr>\n",
       "      <th>2</th>\n",
       "      <td>4695</td>\n",
       "      <td>0</td>\n",
       "      <td>1</td>\n",
       "      <td>3</td>\n",
       "      <td>1</td>\n",
       "      <td>0</td>\n",
       "      <td>0</td>\n",
       "      <td>0</td>\n",
       "    </tr>\n",
       "  </tbody>\n",
       "</table>\n",
       "</div>"
      ],
      "text/plain": [
       "   Age upon Outcome  Was Adopted  Has Name  Month  \\\n",
       "0              2084            0         1      3   \n",
       "1               455            0         1      3   \n",
       "2              4695            0         1      3   \n",
       "\n",
       "   Sex upon Outcome_Intact Male  Sex upon Outcome_Neutered Male  \\\n",
       "0                             0                               1   \n",
       "1                             1                               0   \n",
       "2                             1                               0   \n",
       "\n",
       "   Sex upon Outcome_Spayed Female  Sex upon Outcome_Unknown  \n",
       "0                               0                         0  \n",
       "1                               0                         0  \n",
       "2                               0                         0  "
      ]
     },
     "execution_count": 32,
     "metadata": {},
     "output_type": "execute_result"
    }
   ],
   "source": [
    "shelterDf.head(3)"
   ]
  },
  {
   "cell_type": "code",
   "execution_count": 33,
   "metadata": {
    "scrolled": false
   },
   "outputs": [
    {
     "name": "stdout",
     "output_type": "stream",
     "text": [
      "<class 'pandas.core.frame.DataFrame'>\n",
      "RangeIndex: 57254 entries, 0 to 57253\n",
      "Data columns (total 8 columns):\n",
      "Age upon Outcome                  57254 non-null int64\n",
      "Was Adopted                       57254 non-null int64\n",
      "Has Name                          57254 non-null int64\n",
      "Month                             57254 non-null int64\n",
      "Sex upon Outcome_Intact Male      57254 non-null uint8\n",
      "Sex upon Outcome_Neutered Male    57254 non-null uint8\n",
      "Sex upon Outcome_Spayed Female    57254 non-null uint8\n",
      "Sex upon Outcome_Unknown          57254 non-null uint8\n",
      "dtypes: int64(4), uint8(4)\n",
      "memory usage: 2.0 MB\n"
     ]
    }
   ],
   "source": [
    "shelterDf.info()"
   ]
  },
  {
   "cell_type": "markdown",
   "metadata": {},
   "source": [
    "Standardize values of 'Month' and 'Age upon Outcome'"
   ]
  },
  {
   "cell_type": "code",
   "execution_count": 34,
   "metadata": {},
   "outputs": [],
   "source": [
    "from sklearn.preprocessing import StandardScaler"
   ]
  },
  {
   "cell_type": "code",
   "execution_count": 35,
   "metadata": {},
   "outputs": [],
   "source": [
    "scaler = StandardScaler()"
   ]
  },
  {
   "cell_type": "code",
   "execution_count": 36,
   "metadata": {},
   "outputs": [
    {
     "name": "stderr",
     "output_type": "stream",
     "text": [
      "C:\\Users\\TinyPoots\\Anaconda3\\lib\\site-packages\\sklearn\\utils\\validation.py:595: DataConversionWarning: Data with input dtype int64 was converted to float64 by StandardScaler.\n",
      "  warnings.warn(msg, DataConversionWarning)\n",
      "C:\\Users\\TinyPoots\\Anaconda3\\lib\\site-packages\\sklearn\\utils\\validation.py:595: DataConversionWarning: Data with input dtype int64 was converted to float64 by StandardScaler.\n",
      "  warnings.warn(msg, DataConversionWarning)\n"
     ]
    }
   ],
   "source": [
    "shelterDf['Age upon Outcome'] = scaler.fit_transform(shelterDf['Age upon Outcome'].values.reshape(-1,1))"
   ]
  },
  {
   "cell_type": "code",
   "execution_count": 37,
   "metadata": {},
   "outputs": [
    {
     "name": "stderr",
     "output_type": "stream",
     "text": [
      "C:\\Users\\TinyPoots\\Anaconda3\\lib\\site-packages\\sklearn\\utils\\validation.py:595: DataConversionWarning: Data with input dtype int64 was converted to float64 by StandardScaler.\n",
      "  warnings.warn(msg, DataConversionWarning)\n",
      "C:\\Users\\TinyPoots\\Anaconda3\\lib\\site-packages\\sklearn\\utils\\validation.py:595: DataConversionWarning: Data with input dtype int64 was converted to float64 by StandardScaler.\n",
      "  warnings.warn(msg, DataConversionWarning)\n"
     ]
    }
   ],
   "source": [
    "shelterDf['Month'] = scaler.fit_transform(shelterDf['Month'].values.reshape(-1,1))"
   ]
  },
  {
   "cell_type": "markdown",
   "metadata": {},
   "source": [
    "**Logistical Regression**"
   ]
  },
  {
   "cell_type": "code",
   "execution_count": 38,
   "metadata": {},
   "outputs": [],
   "source": [
    "from sklearn.model_selection import train_test_split"
   ]
  },
  {
   "cell_type": "code",
   "execution_count": 39,
   "metadata": {},
   "outputs": [],
   "source": [
    "X = shelterDf.drop(['Was Adopted'], axis =1)\n",
    "y = shelterDf['Was Adopted']"
   ]
  },
  {
   "cell_type": "code",
   "execution_count": 40,
   "metadata": {},
   "outputs": [],
   "source": [
    "X_train, X_test, y_train, y_test = train_test_split(X, y, test_size=0.3)"
   ]
  },
  {
   "cell_type": "code",
   "execution_count": 41,
   "metadata": {},
   "outputs": [],
   "source": [
    "from sklearn.linear_model import LogisticRegression"
   ]
  },
  {
   "cell_type": "code",
   "execution_count": 42,
   "metadata": {},
   "outputs": [],
   "source": [
    "logModel = LogisticRegression()"
   ]
  },
  {
   "cell_type": "code",
   "execution_count": 43,
   "metadata": {},
   "outputs": [
    {
     "name": "stderr",
     "output_type": "stream",
     "text": [
      "C:\\Users\\TinyPoots\\Anaconda3\\lib\\site-packages\\sklearn\\linear_model\\logistic.py:433: FutureWarning: Default solver will be changed to 'lbfgs' in 0.22. Specify a solver to silence this warning.\n",
      "  FutureWarning)\n"
     ]
    },
    {
     "data": {
      "text/plain": [
       "LogisticRegression(C=1.0, class_weight=None, dual=False, fit_intercept=True,\n",
       "          intercept_scaling=1, max_iter=100, multi_class='warn',\n",
       "          n_jobs=None, penalty='l2', random_state=None, solver='warn',\n",
       "          tol=0.0001, verbose=0, warm_start=False)"
      ]
     },
     "execution_count": 43,
     "metadata": {},
     "output_type": "execute_result"
    }
   ],
   "source": [
    "logModel.fit(X_train, y_train)"
   ]
  },
  {
   "cell_type": "code",
   "execution_count": 44,
   "metadata": {},
   "outputs": [],
   "source": [
    "predictions = logModel.predict(X_test)"
   ]
  },
  {
   "cell_type": "code",
   "execution_count": 45,
   "metadata": {},
   "outputs": [],
   "source": [
    "from sklearn.metrics import classification_report,confusion_matrix"
   ]
  },
  {
   "cell_type": "code",
   "execution_count": 46,
   "metadata": {},
   "outputs": [
    {
     "name": "stdout",
     "output_type": "stream",
     "text": [
      "              precision    recall  f1-score   support\n",
      "\n",
      "           0       0.87      0.69      0.77      9535\n",
      "           1       0.69      0.87      0.77      7642\n",
      "\n",
      "   micro avg       0.77      0.77      0.77     17177\n",
      "   macro avg       0.78      0.78      0.77     17177\n",
      "weighted avg       0.79      0.77      0.77     17177\n",
      "\n",
      "[[6568 2967]\n",
      " [ 978 6664]]\n"
     ]
    }
   ],
   "source": [
    "logClass = classification_report(y_test, predictions)\n",
    "logConf = confusion_matrix(y_test, predictions)\n",
    "\n",
    "print(logClass)\n",
    "print(logConf)"
   ]
  },
  {
   "cell_type": "markdown",
   "metadata": {},
   "source": [
    "Logistic regression yielded fairly accurate predictions with an average precision of about 0.80"
   ]
  },
  {
   "cell_type": "markdown",
   "metadata": {},
   "source": [
    "**Support Vector Classification**"
   ]
  },
  {
   "cell_type": "code",
   "execution_count": 47,
   "metadata": {},
   "outputs": [],
   "source": [
    "from sklearn.svm import SVC"
   ]
  },
  {
   "cell_type": "code",
   "execution_count": 48,
   "metadata": {},
   "outputs": [],
   "source": [
    "SVCmodel = SVC()"
   ]
  },
  {
   "cell_type": "code",
   "execution_count": 49,
   "metadata": {},
   "outputs": [
    {
     "name": "stderr",
     "output_type": "stream",
     "text": [
      "C:\\Users\\TinyPoots\\Anaconda3\\lib\\site-packages\\sklearn\\svm\\base.py:196: FutureWarning: The default value of gamma will change from 'auto' to 'scale' in version 0.22 to account better for unscaled features. Set gamma explicitly to 'auto' or 'scale' to avoid this warning.\n",
      "  \"avoid this warning.\", FutureWarning)\n"
     ]
    },
    {
     "data": {
      "text/plain": [
       "SVC(C=1.0, cache_size=200, class_weight=None, coef0=0.0,\n",
       "  decision_function_shape='ovr', degree=3, gamma='auto_deprecated',\n",
       "  kernel='rbf', max_iter=-1, probability=False, random_state=None,\n",
       "  shrinking=True, tol=0.001, verbose=False)"
      ]
     },
     "execution_count": 49,
     "metadata": {},
     "output_type": "execute_result"
    }
   ],
   "source": [
    "SVCmodel.fit(X_train, y_train)"
   ]
  },
  {
   "cell_type": "code",
   "execution_count": 50,
   "metadata": {},
   "outputs": [],
   "source": [
    "predictions = SVCmodel.predict(X_test)"
   ]
  },
  {
   "cell_type": "code",
   "execution_count": 51,
   "metadata": {},
   "outputs": [
    {
     "name": "stdout",
     "output_type": "stream",
     "text": [
      "              precision    recall  f1-score   support\n",
      "\n",
      "           0       0.83      0.76      0.80      9535\n",
      "           1       0.73      0.81      0.77      7642\n",
      "\n",
      "   micro avg       0.78      0.78      0.78     17177\n",
      "   macro avg       0.78      0.79      0.78     17177\n",
      "weighted avg       0.79      0.78      0.78     17177\n",
      "\n",
      "[[7263 2272]\n",
      " [1448 6194]]\n"
     ]
    }
   ],
   "source": [
    "svcClass = classification_report(y_test, predictions)\n",
    "svcConf = confusion_matrix(y_test, predictions)\n",
    "print(svcClass)\n",
    "print(svcConf)"
   ]
  },
  {
   "cell_type": "markdown",
   "metadata": {},
   "source": [
    "Similar results to logistical regression."
   ]
  },
  {
   "cell_type": "markdown",
   "metadata": {},
   "source": [
    "**Random Forest Classification**"
   ]
  },
  {
   "cell_type": "code",
   "execution_count": 52,
   "metadata": {},
   "outputs": [],
   "source": [
    "from sklearn.ensemble import RandomForestClassifier"
   ]
  },
  {
   "cell_type": "code",
   "execution_count": 53,
   "metadata": {},
   "outputs": [
    {
     "name": "stderr",
     "output_type": "stream",
     "text": [
      "C:\\Users\\TinyPoots\\Anaconda3\\lib\\site-packages\\sklearn\\ensemble\\forest.py:246: FutureWarning: The default value of n_estimators will change from 10 in version 0.20 to 100 in 0.22.\n",
      "  \"10 in version 0.20 to 100 in 0.22.\", FutureWarning)\n"
     ]
    }
   ],
   "source": [
    "randomForest = RandomForestClassifier().fit(X_train, y_train)"
   ]
  },
  {
   "cell_type": "code",
   "execution_count": 54,
   "metadata": {},
   "outputs": [],
   "source": [
    "predictions = randomForest.predict(X_test)"
   ]
  },
  {
   "cell_type": "code",
   "execution_count": 55,
   "metadata": {},
   "outputs": [
    {
     "name": "stdout",
     "output_type": "stream",
     "text": [
      "              precision    recall  f1-score   support\n",
      "\n",
      "           0       0.81      0.80      0.80      9535\n",
      "           1       0.75      0.76      0.76      7642\n",
      "\n",
      "   micro avg       0.78      0.78      0.78     17177\n",
      "   macro avg       0.78      0.78      0.78     17177\n",
      "weighted avg       0.78      0.78      0.78     17177\n",
      "\n",
      "[[7625 1910]\n",
      " [1838 5804]]\n"
     ]
    }
   ],
   "source": [
    "forestClass = classification_report(y_test, predictions)\n",
    "forestConf = confusion_matrix(y_test, predictions)\n",
    "\n",
    "print(forestClass)\n",
    "print(forestConf)"
   ]
  },
  {
   "cell_type": "code",
   "execution_count": 56,
   "metadata": {},
   "outputs": [
    {
     "data": {
      "image/png": "[encoded data removed]",
      "text/plain": [
       "<Figure size 576x432 with 1 Axes>"
      ]
     },
     "metadata": {
      "needs_background": "light"
     },
     "output_type": "display_data"
    }
   ],
   "source": [
    "importantFeatures = pd.DataFrame({'Feature':shelterDf.drop(['Was Adopted'], axis = 1).columns,'Importance':randomForest.feature_importances_.tolist()})\n",
    "\n",
    "plt.figure(figsize=(8, 6))\n",
    "f = sns.barplot(data=importantFeatures, x='Feature', y='Importance')\n",
    "plt.xticks(rotation=90)\n",
    "plt.show()"
   ]
  },
  {
   "cell_type": "markdown",
   "metadata": {},
   "source": [
    "The predictions are on par with the other two alrogithms. Also it can be seen that 'Age upon Outcome' is very important for the Random Forsest. I want to look at how well the Random Forest can do with just the 'Age upon Outcome' feature."
   ]
  },
  {
   "cell_type": "code",
   "execution_count": 57,
   "metadata": {},
   "outputs": [],
   "source": [
    "X = shelterDf['Age upon Outcome'].values.reshape(-1,1)\n",
    "y = shelterDf['Was Adopted']\n",
    "X_train, X_test, y_train, y_test = train_test_split(X, y, test_size=0.3)"
   ]
  },
  {
   "cell_type": "code",
   "execution_count": 58,
   "metadata": {},
   "outputs": [
    {
     "name": "stderr",
     "output_type": "stream",
     "text": [
      "C:\\Users\\TinyPoots\\Anaconda3\\lib\\site-packages\\sklearn\\ensemble\\forest.py:246: FutureWarning: The default value of n_estimators will change from 10 in version 0.20 to 100 in 0.22.\n",
      "  \"10 in version 0.20 to 100 in 0.22.\", FutureWarning)\n"
     ]
    }
   ],
   "source": [
    "randomForest = RandomForestClassifier().fit(X_train, y_train)"
   ]
  },
  {
   "cell_type": "code",
   "execution_count": 59,
   "metadata": {},
   "outputs": [],
   "source": [
    "predictions = randomForest.predict(X_test)"
   ]
  },
  {
   "cell_type": "code",
   "execution_count": 60,
   "metadata": {},
   "outputs": [
    {
     "name": "stdout",
     "output_type": "stream",
     "text": [
      "              precision    recall  f1-score   support\n",
      "\n",
      "           0       0.78      0.71      0.74      9459\n",
      "           1       0.68      0.75      0.71      7718\n",
      "\n",
      "   micro avg       0.73      0.73      0.73     17177\n",
      "   macro avg       0.73      0.73      0.73     17177\n",
      "weighted avg       0.73      0.73      0.73     17177\n",
      "\n",
      "[[6708 2751]\n",
      " [1903 5815]]\n"
     ]
    }
   ],
   "source": [
    "forestClass = classification_report(y_test, predictions)\n",
    "forestConf = confusion_matrix(y_test, predictions)\n",
    "\n",
    "print(forestClass)\n",
    "print(forestConf)"
   ]
  },
  {
   "cell_type": "markdown",
   "metadata": {},
   "source": [
    "There is definitely a decrease in accuracy but not as much I would expect. The model still gives a decent prediction of adoption."
   ]
  }
 ],
 "metadata": {
  "kernelspec": {
   "display_name": "Python 3",
   "language": "python",
   "name": "python3"
  },
  "language_info": {
   "codemirror_mode": {
    "name": "ipython",
    "version": 3
   },
   "file_extension": ".py",
   "mimetype": "text/x-python",
   "name": "python",
   "nbconvert_exporter": "python",
   "pygments_lexer": "ipython3",
   "version": "3.7.1"
  }
 },
 "nbformat": 4,
 "nbformat_minor": 2
}
