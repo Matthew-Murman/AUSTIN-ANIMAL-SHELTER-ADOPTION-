{
 "cells": [
  {
   "cell_type": "code",
   "execution_count": 1,
   "metadata": {},
   "outputs": [],
   "source": [
    "import pandas as pd\n",
    "import numpy as np\n",
    "import matplotlib.pyplot as plt\n",
    "import seaborn as sns\n",
    "import datetime\n",
    "import re\n",
    "%matplotlib inline"
   ]
  },
  {
   "cell_type": "code",
   "execution_count": 2,
   "metadata": {},
   "outputs": [],
   "source": [
    "shelterDf = pd.read_csv('Austin_Animal_Center_Outcomes.csv')"
   ]
  },
  {
   "cell_type": "code",
   "execution_count": 3,
   "metadata": {
    "scrolled": true
   },
   "outputs": [
    {
     "data": {
      "text/html": [
       "<div>\n",
       "<style scoped>\n",
       "    .dataframe tbody tr th:only-of-type {\n",
       "        vertical-align: middle;\n",
       "    }\n",
       "\n",
       "    .dataframe tbody tr th {\n",
       "        vertical-align: top;\n",
       "    }\n",
       "\n",
       "    .dataframe thead th {\n",
       "        text-align: right;\n",
       "    }\n",
       "</style>\n",
       "<table border=\"1\" class=\"dataframe\">\n",
       "  <thead>\n",
       "    <tr style=\"text-align: right;\">\n",
       "      <th></th>\n",
       "      <th>Animal ID</th>\n",
       "      <th>Name</th>\n",
       "      <th>DateTime</th>\n",
       "      <th>MonthYear</th>\n",
       "      <th>Date of Birth</th>\n",
       "      <th>Outcome Type</th>\n",
       "      <th>Outcome Subtype</th>\n",
       "      <th>Animal Type</th>\n",
       "      <th>Sex upon Outcome</th>\n",
       "      <th>Age upon Outcome</th>\n",
       "      <th>Breed</th>\n",
       "      <th>Color</th>\n",
       "    </tr>\n",
       "  </thead>\n",
       "  <tbody>\n",
       "    <tr>\n",
       "      <th>0</th>\n",
       "      <td>A682730</td>\n",
       "      <td>Freddy</td>\n",
       "      <td>03/19/2019 06:54:00 PM</td>\n",
       "      <td>03/19/2019 06:54:00 PM</td>\n",
       "      <td>07/04/2013</td>\n",
       "      <td>Return to Owner</td>\n",
       "      <td>NaN</td>\n",
       "      <td>Dog</td>\n",
       "      <td>Neutered Male</td>\n",
       "      <td>5 years</td>\n",
       "      <td>Pit Bull Mix</td>\n",
       "      <td>Fawn</td>\n",
       "    </tr>\n",
       "    <tr>\n",
       "      <th>1</th>\n",
       "      <td>A790982</td>\n",
       "      <td>Blue</td>\n",
       "      <td>03/19/2019 06:54:00 PM</td>\n",
       "      <td>03/19/2019 06:54:00 PM</td>\n",
       "      <td>12/19/2017</td>\n",
       "      <td>Return to Owner</td>\n",
       "      <td>NaN</td>\n",
       "      <td>Dog</td>\n",
       "      <td>Intact Male</td>\n",
       "      <td>1 year</td>\n",
       "      <td>Pit Bull Mix</td>\n",
       "      <td>Blue/White</td>\n",
       "    </tr>\n",
       "    <tr>\n",
       "      <th>2</th>\n",
       "      <td>A790653</td>\n",
       "      <td>*O'Brian</td>\n",
       "      <td>03/19/2019 06:35:00 PM</td>\n",
       "      <td>03/19/2019 06:35:00 PM</td>\n",
       "      <td>09/13/2017</td>\n",
       "      <td>Adoption</td>\n",
       "      <td>NaN</td>\n",
       "      <td>Dog</td>\n",
       "      <td>Spayed Female</td>\n",
       "      <td>1 year</td>\n",
       "      <td>Pembroke Welsh Corgi Mix</td>\n",
       "      <td>Red/White</td>\n",
       "    </tr>\n",
       "    <tr>\n",
       "      <th>3</th>\n",
       "      <td>A475011</td>\n",
       "      <td>Tobie</td>\n",
       "      <td>03/19/2019 06:14:00 PM</td>\n",
       "      <td>03/19/2019 06:14:00 PM</td>\n",
       "      <td>05/11/2006</td>\n",
       "      <td>Return to Owner</td>\n",
       "      <td>NaN</td>\n",
       "      <td>Dog</td>\n",
       "      <td>Intact Male</td>\n",
       "      <td>12 years</td>\n",
       "      <td>German Shepherd Mix</td>\n",
       "      <td>Black/White</td>\n",
       "    </tr>\n",
       "    <tr>\n",
       "      <th>4</th>\n",
       "      <td>A790581</td>\n",
       "      <td>Mia</td>\n",
       "      <td>03/19/2019 06:11:00 PM</td>\n",
       "      <td>03/19/2019 06:11:00 PM</td>\n",
       "      <td>03/12/2018</td>\n",
       "      <td>Adoption</td>\n",
       "      <td>NaN</td>\n",
       "      <td>Dog</td>\n",
       "      <td>Spayed Female</td>\n",
       "      <td>1 year</td>\n",
       "      <td>Pit Bull Mix</td>\n",
       "      <td>Black/White</td>\n",
       "    </tr>\n",
       "  </tbody>\n",
       "</table>\n",
       "</div>"
      ],
      "text/plain": [
       "  Animal ID      Name                DateTime               MonthYear  \\\n",
       "0   A682730    Freddy  03/19/2019 06:54:00 PM  03/19/2019 06:54:00 PM   \n",
       "1   A790982      Blue  03/19/2019 06:54:00 PM  03/19/2019 06:54:00 PM   \n",
       "2   A790653  *O'Brian  03/19/2019 06:35:00 PM  03/19/2019 06:35:00 PM   \n",
       "3   A475011     Tobie  03/19/2019 06:14:00 PM  03/19/2019 06:14:00 PM   \n",
       "4   A790581       Mia  03/19/2019 06:11:00 PM  03/19/2019 06:11:00 PM   \n",
       "\n",
       "  Date of Birth     Outcome Type Outcome Subtype Animal Type Sex upon Outcome  \\\n",
       "0    07/04/2013  Return to Owner             NaN         Dog    Neutered Male   \n",
       "1    12/19/2017  Return to Owner             NaN         Dog      Intact Male   \n",
       "2    09/13/2017         Adoption             NaN         Dog    Spayed Female   \n",
       "3    05/11/2006  Return to Owner             NaN         Dog      Intact Male   \n",
       "4    03/12/2018         Adoption             NaN         Dog    Spayed Female   \n",
       "\n",
       "  Age upon Outcome                     Breed        Color  \n",
       "0          5 years              Pit Bull Mix         Fawn  \n",
       "1           1 year              Pit Bull Mix   Blue/White  \n",
       "2           1 year  Pembroke Welsh Corgi Mix    Red/White  \n",
       "3         12 years       German Shepherd Mix  Black/White  \n",
       "4           1 year              Pit Bull Mix  Black/White  "
      ]
     },
     "execution_count": 3,
     "metadata": {},
     "output_type": "execute_result"
    }
   ],
   "source": [
    "shelterDf.head()"
   ]
  },
  {
   "cell_type": "code",
   "execution_count": 4,
   "metadata": {},
   "outputs": [
    {
     "name": "stdout",
     "output_type": "stream",
     "text": [
      "<class 'pandas.core.frame.DataFrame'>\n",
      "RangeIndex: 97101 entries, 0 to 97100\n",
      "Data columns (total 12 columns):\n",
      "Animal ID           97101 non-null object\n",
      "Name                67197 non-null object\n",
      "DateTime            97101 non-null object\n",
      "MonthYear           97101 non-null object\n",
      "Date of Birth       97101 non-null object\n",
      "Outcome Type        97093 non-null object\n",
      "Outcome Subtype     43953 non-null object\n",
      "Animal Type         97101 non-null object\n",
      "Sex upon Outcome    97099 non-null object\n",
      "Age upon Outcome    97093 non-null object\n",
      "Breed               97101 non-null object\n",
      "Color               97101 non-null object\n",
      "dtypes: object(12)\n",
      "memory usage: 8.9+ MB\n"
     ]
    }
   ],
   "source": [
    "shelterDf.info()"
   ]
  },
  {
   "cell_type": "code",
   "execution_count": 5,
   "metadata": {
    "scrolled": true
   },
   "outputs": [
    {
     "data": {
      "text/plain": [
       "Animal ID           87157\n",
       "Name                16563\n",
       "DateTime            80244\n",
       "MonthYear           80244\n",
       "Date of Birth        6371\n",
       "Outcome Type            9\n",
       "Outcome Subtype        20\n",
       "Animal Type             5\n",
       "Sex upon Outcome        5\n",
       "Age upon Outcome       49\n",
       "Breed                2372\n",
       "Color                 567\n",
       "dtype: int64"
      ]
     },
     "execution_count": 5,
     "metadata": {},
     "output_type": "execute_result"
    }
   ],
   "source": [
    "shelterDf.nunique()"
   ]
  },
  {
   "cell_type": "code",
   "execution_count": 6,
   "metadata": {},
   "outputs": [
    {
     "data": {
      "text/plain": [
       "Dog          55508\n",
       "Cat          35964\n",
       "Other         5165\n",
       "Bird           452\n",
       "Livestock       12\n",
       "Name: Animal Type, dtype: int64"
      ]
     },
     "execution_count": 6,
     "metadata": {},
     "output_type": "execute_result"
    }
   ],
   "source": [
    "shelterDf['Animal Type'].value_counts()"
   ]
  },
  {
   "cell_type": "markdown",
   "metadata": {},
   "source": [
    "We're going to focus on cats and dogs"
   ]
  },
  {
   "cell_type": "markdown",
   "metadata": {},
   "source": [
    "**Clean Data**"
   ]
  },
  {
   "cell_type": "markdown",
   "metadata": {},
   "source": [
    "There is a lot of subjectivity in determining an animals breed and color e.g. many of the colors/breeds have only one animal assigned to that type. Therefore, we are only going to be looking at the top 10 breeds and drop the color feature"
   ]
  },
  {
   "cell_type": "code",
   "execution_count": 7,
   "metadata": {},
   "outputs": [
    {
     "name": "stdout",
     "output_type": "stream",
     "text": [
      "--Breeds--\n",
      "Norwich Terrier/Chihuahua Longhair    1\n",
      "Scottish Terrier/Cairn Terrier        1\n",
      "Australian Shepherd/Siberian Husky    1\n",
      "English Bulldog/Pit Bull              1\n",
      "Chow Chow/Australian Kelpie           1\n",
      "Pekingese/Tibetan Terrier             1\n",
      "Whippet/Beagle                        1\n",
      "American Sable                        1\n",
      "English Bulldog/Beagle                1\n",
      "Chihuahua Shorthair/Border Collie     1\n",
      "Name: Breed, dtype: int64\n",
      "--Colors--\n",
      "Agouti/Gray                 1\n",
      "Blue Smoke/Brown            1\n",
      "Brown Merle/Gray            1\n",
      "Fawn/Chocolate              1\n",
      "Blue Cream/Buff             1\n",
      "Red Tick/Black              1\n",
      "Brown Brindle/Blue Cream    1\n",
      "Black/Seal Point            1\n",
      "Tortie/Tortie               1\n",
      "Brown Brindle/Gray          1\n",
      "Name: Color, dtype: int64\n"
     ]
    }
   ],
   "source": [
    "print('--Breeds--')\n",
    "print(shelterDf['Breed'].value_counts().tail(10))\n",
    "print('--Colors--')\n",
    "print(shelterDf['Color'].value_counts().tail(10))"
   ]
  },
  {
   "cell_type": "code",
   "execution_count": 8,
   "metadata": {},
   "outputs": [
    {
     "name": "stdout",
     "output_type": "stream",
     "text": [
      "Number of Breeds: 10\n",
      "Number of Animals: 58935\n"
     ]
    }
   ],
   "source": [
    "shelterDf = shelterDf[shelterDf.groupby('Breed').Breed.transform(len) > 1000]\n",
    "print('Number of Breeds: ' + str(shelterDf['Breed'].nunique()))\n",
    "print('Number of Animals: ' + str(shelterDf['Breed'].count()))"
   ]
  },
  {
   "cell_type": "code",
   "execution_count": 9,
   "metadata": {},
   "outputs": [
    {
     "name": "stdout",
     "output_type": "stream",
     "text": [
      "Bat Mix    1680\n",
      "Name: Breed, dtype: int64\n",
      "Euthanasia    1464\n",
      "Disposal       169\n",
      "Died            44\n",
      "Name: Outcome Type, dtype: int64\n"
     ]
    }
   ],
   "source": [
    "print(shelterDf[shelterDf['Animal Type'] == 'Other']['Breed'].value_counts())\n",
    "print(shelterDf[shelterDf['Animal Type'] == 'Other']['Outcome Type'].value_counts())"
   ]
  },
  {
   "cell_type": "markdown",
   "metadata": {},
   "source": [
    "The animals in the 'other' category are all bats and I highly doubt bats are up for adoption. They will be dropped from the data set"
   ]
  },
  {
   "cell_type": "code",
   "execution_count": 10,
   "metadata": {},
   "outputs": [],
   "source": [
    "shelterDf = shelterDf[shelterDf['Animal Type'] != 'Other']"
   ]
  },
  {
   "cell_type": "code",
   "execution_count": 11,
   "metadata": {
    "scrolled": true
   },
   "outputs": [
    {
     "data": {
      "image/png": "[encoded data removed]",
      "text/plain": [
       "<Figure size 432x288 with 1 Axes>"
      ]
     },
     "metadata": {
      "needs_background": "light"
     },
     "output_type": "display_data"
    }
   ],
   "source": [
    "shelterDf['Outcome Type'].value_counts().plot(kind = 'bar', title = 'Number of Each Outcome')\n",
    "plt.show()"
   ]
  },
  {
   "cell_type": "markdown",
   "metadata": {},
   "source": [
    "Seems to be a pretty effective shelter although transfer doesn't mean adopted rather they were trasfered to another facility "
   ]
  },
  {
   "cell_type": "code",
   "execution_count": 12,
   "metadata": {
    "scrolled": false
   },
   "outputs": [
    {
     "data": {
      "image/png": "[encoded data removed]",
      "text/plain": [
       "<Figure size 432x288 with 2 Axes>"
      ]
     },
     "metadata": {
      "needs_background": "light"
     },
     "output_type": "display_data"
    }
   ],
   "source": [
    "sns.heatmap(shelterDf.isnull())\n",
    "plt.show()"
   ]
  },
  {
   "cell_type": "code",
   "execution_count": 13,
   "metadata": {},
   "outputs": [
    {
     "data": {
      "text/plain": [
       "Animal ID               0\n",
       "Name                19061\n",
       "DateTime                0\n",
       "MonthYear               0\n",
       "Date of Birth           0\n",
       "Outcome Type            3\n",
       "Outcome Subtype     28595\n",
       "Animal Type             0\n",
       "Sex upon Outcome        1\n",
       "Age upon Outcome        4\n",
       "Breed                   0\n",
       "Color                   0\n",
       "dtype: int64"
      ]
     },
     "execution_count": 13,
     "metadata": {},
     "output_type": "execute_result"
    }
   ],
   "source": [
    "shelterDf.isnull().sum()"
   ]
  },
  {
   "cell_type": "markdown",
   "metadata": {},
   "source": [
    "Lets get rid of a few of those missing values "
   ]
  },
  {
   "cell_type": "code",
   "execution_count": 14,
   "metadata": {},
   "outputs": [],
   "source": [
    "shelterDf = shelterDf[shelterDf['Sex upon Outcome'].isnull() == False]\n",
    "shelterDf = shelterDf[shelterDf['Outcome Type'].isnull() == False]"
   ]
  },
  {
   "cell_type": "code",
   "execution_count": 15,
   "metadata": {},
   "outputs": [
    {
     "data": {
      "text/plain": [
       "Animal ID               0\n",
       "Name                19060\n",
       "DateTime                0\n",
       "MonthYear               0\n",
       "Date of Birth           0\n",
       "Outcome Type            0\n",
       "Outcome Subtype     28592\n",
       "Animal Type             0\n",
       "Sex upon Outcome        0\n",
       "Age upon Outcome        2\n",
       "Breed                   0\n",
       "Color                   0\n",
       "dtype: int64"
      ]
     },
     "execution_count": 15,
     "metadata": {},
     "output_type": "execute_result"
    }
   ],
   "source": [
    "shelterDf.isnull().sum()"
   ]
  },
  {
   "cell_type": "markdown",
   "metadata": {},
   "source": [
    "The missing 'Age upon Outcome' wont be a problem since I will be calculating it a different way below"
   ]
  },
  {
   "cell_type": "markdown",
   "metadata": {},
   "source": [
    "Will be best to just drop Name and Outcome Subtype (will drop later)"
   ]
  },
  {
   "cell_type": "code",
   "execution_count": 16,
   "metadata": {},
   "outputs": [],
   "source": [
    "# Add feature 'Was Adopted', 1 is adopted, 0 not adopted\n",
    "shelterDf['Was Adopted'] = shelterDf['Outcome Type'].apply(lambda x: 1 if x == 'Adoption' else 0)"
   ]
  },
  {
   "cell_type": "code",
   "execution_count": 17,
   "metadata": {},
   "outputs": [],
   "source": [
    "# If the 'name' column has a float then its NaN\n",
    "shelterDf['Has Name'] = shelterDf['Name'].apply(lambda x: 1 if not isinstance(x, float) else 0)"
   ]
  },
  {
   "cell_type": "code",
   "execution_count": 18,
   "metadata": {},
   "outputs": [],
   "source": [
    "# Make 'datetime' and 'date_of_birth' datetime objects\n",
    "# There is several typos in Date of Birth so we'll drop those\n",
    "shelterDf['DateTime'] = shelterDf['DateTime'].apply(lambda x: datetime.datetime.strptime(x[0:-3], '%m/%d/%Y %H:%M:%S'))\n",
    "shelterDf['Date of Birth'] = shelterDf['Date of Birth'].apply(lambda x: datetime.datetime.strptime(x, '%m/%d/%Y'))"
   ]
  },
  {
   "cell_type": "code",
   "execution_count": 19,
   "metadata": {},
   "outputs": [],
   "source": [
    "# Make 'month' and 'year' features\n",
    "shelterDf['Month'] = shelterDf['DateTime'].apply(lambda x: x.month)\n",
    "shelterDf['Year'] = shelterDf['DateTime'].apply(lambda x: x.year)"
   ]
  },
  {
   "cell_type": "code",
   "execution_count": 20,
   "metadata": {
    "scrolled": true
   },
   "outputs": [],
   "source": [
    "# Change 'age upon outcome' to days for cosistency\n",
    "shelterDf['Age upon Outcome'] = shelterDf['DateTime'] - shelterDf['Date of Birth']\n",
    "daysRegex = re.compile('\\d+')\n",
    "shelterDf['Age upon Outcome'] = shelterDf['Age upon Outcome'].apply(lambda x: round(int(daysRegex.search(str(x)).group())))"
   ]
  },
  {
   "cell_type": "code",
   "execution_count": 21,
   "metadata": {},
   "outputs": [
    {
     "data": {
      "text/plain": [
       "2015    11034\n",
       "2016    10876\n",
       "2017    10726\n",
       "2014    10425\n",
       "2018     9912\n",
       "2013     2554\n",
       "2019     1725\n",
       "Name: Year, dtype: int64"
      ]
     },
     "execution_count": 21,
     "metadata": {},
     "output_type": "execute_result"
    }
   ],
   "source": [
    "# Data starts in 2013 and is incomplete\n",
    "shelterDf['Year'].value_counts()"
   ]
  },
  {
   "cell_type": "markdown",
   "metadata": {},
   "source": [
    "They started data collection in 2013 and its only March 2019 currently, so its expected to have much less animals in those years"
   ]
  },
  {
   "cell_type": "code",
   "execution_count": 22,
   "metadata": {},
   "outputs": [],
   "source": [
    "# To use 'year' as a predictor we can only use complete years\n",
    "shelterDf = shelterDf[shelterDf['Year'] != 2013]\n",
    "shelterDf = shelterDf[shelterDf['Year'] != 2019]"
   ]
  },
  {
   "cell_type": "code",
   "execution_count": 23,
   "metadata": {},
   "outputs": [
    {
     "data": {
      "text/plain": [
       "Neutered Male    17913\n",
       "Spayed Female    17096\n",
       "Intact Female     7586\n",
       "Intact Male       7369\n",
       "Unknown           3009\n",
       "Name: Sex upon Outcome, dtype: int64"
      ]
     },
     "execution_count": 23,
     "metadata": {},
     "output_type": "execute_result"
    }
   ],
   "source": [
    "shelterDf['Sex upon Outcome'].value_counts()"
   ]
  },
  {
   "cell_type": "code",
   "execution_count": 24,
   "metadata": {},
   "outputs": [],
   "source": [
    "# Dropping unknown sex upon outcome since they dont give us much information\n",
    "shelterDf = shelterDf[shelterDf['Sex upon Outcome'] != 'Unknown']"
   ]
  },
  {
   "cell_type": "code",
   "execution_count": 25,
   "metadata": {},
   "outputs": [],
   "source": [
    "# Seperate 'Sex upon outcome' into 'is male' and 'is fixed'\n",
    "# 'is fixed' = 0 implies the animal is not spayed or neutered\n",
    "sexRegex = re.compile('(\\w*)\\s*(Male|Female|Unknown)')\n",
    "sexRegex.search('Unknown').groups()\n",
    "\n",
    "shelterDf['is male'] = shelterDf['Sex upon Outcome'].apply(lambda x: int(sexRegex.search(str(x)).group(2) == 'Male'))\n",
    "shelterDf['is fixed'] = shelterDf['Sex upon Outcome'].apply(lambda x: int(sexRegex.search(str(x)).group(1) in ['Spayed', 'Neutered']))\n"
   ]
  },
  {
   "cell_type": "markdown",
   "metadata": {},
   "source": [
    "*Drop any columns that are no longer needed*"
   ]
  },
  {
   "cell_type": "code",
   "execution_count": 26,
   "metadata": {},
   "outputs": [],
   "source": [
    "# Drop Name and Outcome Subtype: too many NaN\n",
    "# Drop MonthYear: redundant\n",
    "# Drop Color\n",
    "# Drop Animal ID\n",
    "# Drop DateTime\n",
    "# Drop Date of Birth\n",
    "# Drop Sex upon Outcome\n",
    "shelterDf.drop(['Date of Birth','DateTime', 'Name', 'Outcome Subtype', 'Outcome Type', 'MonthYear', 'Color', 'Animal ID', 'Sex upon Outcome'], axis = 1, inplace = True)\n",
    "shelterDf.dropna(inplace = True)"
   ]
  },
  {
   "cell_type": "code",
   "execution_count": 27,
   "metadata": {},
   "outputs": [
    {
     "data": {
      "text/plain": [
       "Animal Type         0\n",
       "Age upon Outcome    0\n",
       "Breed               0\n",
       "Was Adopted         0\n",
       "Has Name            0\n",
       "Month               0\n",
       "Year                0\n",
       "is male             0\n",
       "is fixed            0\n",
       "dtype: int64"
      ]
     },
     "execution_count": 27,
     "metadata": {},
     "output_type": "execute_result"
    }
   ],
   "source": [
    "shelterDf.isnull().sum()"
   ]
  },
  {
   "cell_type": "code",
   "execution_count": 28,
   "metadata": {
    "scrolled": true
   },
   "outputs": [
    {
     "data": {
      "text/html": [
       "<div>\n",
       "<style scoped>\n",
       "    .dataframe tbody tr th:only-of-type {\n",
       "        vertical-align: middle;\n",
       "    }\n",
       "\n",
       "    .dataframe tbody tr th {\n",
       "        vertical-align: top;\n",
       "    }\n",
       "\n",
       "    .dataframe thead th {\n",
       "        text-align: right;\n",
       "    }\n",
       "</style>\n",
       "<table border=\"1\" class=\"dataframe\">\n",
       "  <thead>\n",
       "    <tr style=\"text-align: right;\">\n",
       "      <th></th>\n",
       "      <th>Animal Type</th>\n",
       "      <th>Age upon Outcome</th>\n",
       "      <th>Breed</th>\n",
       "      <th>Was Adopted</th>\n",
       "      <th>Has Name</th>\n",
       "      <th>Month</th>\n",
       "      <th>Year</th>\n",
       "      <th>is male</th>\n",
       "      <th>is fixed</th>\n",
       "    </tr>\n",
       "  </thead>\n",
       "  <tbody>\n",
       "    <tr>\n",
       "      <th>0</th>\n",
       "      <td>Dog</td>\n",
       "      <td>228</td>\n",
       "      <td>German Shepherd Mix</td>\n",
       "      <td>1</td>\n",
       "      <td>1</td>\n",
       "      <td>12</td>\n",
       "      <td>2018</td>\n",
       "      <td>1</td>\n",
       "      <td>0</td>\n",
       "    </tr>\n",
       "    <tr>\n",
       "      <th>1</th>\n",
       "      <td>Cat</td>\n",
       "      <td>61</td>\n",
       "      <td>Domestic Shorthair Mix</td>\n",
       "      <td>1</td>\n",
       "      <td>0</td>\n",
       "      <td>12</td>\n",
       "      <td>2018</td>\n",
       "      <td>0</td>\n",
       "      <td>1</td>\n",
       "    </tr>\n",
       "    <tr>\n",
       "      <th>2</th>\n",
       "      <td>Cat</td>\n",
       "      <td>1096</td>\n",
       "      <td>Domestic Shorthair Mix</td>\n",
       "      <td>1</td>\n",
       "      <td>1</td>\n",
       "      <td>12</td>\n",
       "      <td>2018</td>\n",
       "      <td>0</td>\n",
       "      <td>1</td>\n",
       "    </tr>\n",
       "  </tbody>\n",
       "</table>\n",
       "</div>"
      ],
      "text/plain": [
       "  Animal Type  Age upon Outcome                   Breed  Was Adopted  \\\n",
       "0         Dog               228     German Shepherd Mix            1   \n",
       "1         Cat                61  Domestic Shorthair Mix            1   \n",
       "2         Cat              1096  Domestic Shorthair Mix            1   \n",
       "\n",
       "   Has Name  Month  Year  is male  is fixed  \n",
       "0         1     12  2018        1         0  \n",
       "1         0     12  2018        0         1  \n",
       "2         1     12  2018        0         1  "
      ]
     },
     "execution_count": 28,
     "metadata": {},
     "output_type": "execute_result"
    }
   ],
   "source": [
    "shelterDf.reset_index(inplace=True, drop=True)\n",
    "shelterDf.head(3)"
   ]
  },
  {
   "cell_type": "code",
   "execution_count": 29,
   "metadata": {},
   "outputs": [
    {
     "name": "stdout",
     "output_type": "stream",
     "text": [
      "<class 'pandas.core.frame.DataFrame'>\n",
      "RangeIndex: 49964 entries, 0 to 49963\n",
      "Data columns (total 9 columns):\n",
      "Animal Type         49964 non-null object\n",
      "Age upon Outcome    49964 non-null int64\n",
      "Breed               49964 non-null object\n",
      "Was Adopted         49964 non-null int64\n",
      "Has Name            49964 non-null int64\n",
      "Month               49964 non-null int64\n",
      "Year                49964 non-null int64\n",
      "is male             49964 non-null int64\n",
      "is fixed            49964 non-null int64\n",
      "dtypes: int64(7), object(2)\n",
      "memory usage: 3.4+ MB\n"
     ]
    }
   ],
   "source": [
    "shelterDf.info()"
   ]
  },
  {
   "cell_type": "code",
   "execution_count": 30,
   "metadata": {},
   "outputs": [
    {
     "data": {
      "image/png": "[encoded data removed]",
      "text/plain": [
       "<Figure size 432x288 with 1 Axes>"
      ]
     },
     "metadata": {
      "needs_background": "light"
     },
     "output_type": "display_data"
    }
   ],
   "source": [
    "# Take a quick look at number of adoptions vs number of non-adoptions\n",
    "sns.countplot(shelterDf['Was Adopted']).set_ylabel('Number of Animals')\n",
    "plt.show()"
   ]
  },
  {
   "cell_type": "markdown",
   "metadata": {},
   "source": [
    "About a 50-50 split showing that the data is fairly symmetric and predictions wont be too skewed toward adopted or not adopted"
   ]
  },
  {
   "cell_type": "code",
   "execution_count": 31,
   "metadata": {
    "scrolled": false
   },
   "outputs": [
    {
     "data": {
      "image/png": "[encoded data removed]",
      "text/plain": [
       "<Figure size 1080x720 with 4 Axes>"
      ]
     },
     "metadata": {
      "needs_background": "light"
     },
     "output_type": "display_data"
    }
   ],
   "source": [
    "# Graphs of adoptions per year and per month\n",
    "fig, axes = plt.subplots(figsize = (15,10), ncols =2, nrows = 2)\n",
    "sns.countplot(shelterDf['Year'], hue = shelterDf['Was Adopted'], ax = axes[0,0]).set_title('Adoptions per Year')\n",
    "sns.countplot(shelterDf['Month'],hue = shelterDf['Was Adopted'], ax = axes[0,1]).set_title('Adoptions per Month')\n",
    "sns.countplot(shelterDf['Year'], ax = axes[1,0], color = 'cornflowerblue').set_title('Total Animals at Shelter per Year')\n",
    "sns.countplot(shelterDf['Month'], ax = axes[1,1], color = 'cornflowerblue').set_title('Total Animals at Shelter per Month')\n",
    "\n",
    "axes[0,0].set_ylabel('Number of Animals')\n",
    "axes[1,0].set_ylabel('Number of Animals')\n",
    "axes[0,1].set_ylabel('')\n",
    "axes[1,1].set_ylabel('')\n",
    "plt.show()"
   ]
  },
  {
   "cell_type": "markdown",
   "metadata": {},
   "source": [
    "There appears to be a slight increase in adoptions from 2014 to 2018 while the total number of animals remains roughly the same. \n",
    "\n",
    "Adoptions in early months are significantly less than in later months but there are also less animals in the shelter in total. This makes sense since the increase in adoption at the end of the year will result in people not needing a pet and less animals in the shelter. The late year influx in adoptions is likely do to the holiday season and new pets being given as gifts"
   ]
  },
  {
   "cell_type": "code",
   "execution_count": 32,
   "metadata": {},
   "outputs": [
    {
     "data": {
      "image/png": "[encoded data removed]",
      "text/plain": [
       "<Figure size 864x360 with 1 Axes>"
      ]
     },
     "metadata": {
      "needs_background": "light"
     },
     "output_type": "display_data"
    }
   ],
   "source": [
    "plt.figure(figsize= (12,5))\n",
    "sns.countplot(x = 'Breed', data = shelterDf, hue = 'Was Adopted')\n",
    "plt.tight_layout()\n",
    "plt.xticks(rotation = 90)\n",
    "plt.ylabel('Number of Animals')\n",
    "plt.show()"
   ]
  },
  {
   "cell_type": "markdown",
   "metadata": {},
   "source": [
    "It wouldn't seem that breed has much impact on whether an animal get adopted either and should be dropped during pre-processing. 'Domestic Shorthair Mix' is the most common breed. I assume that is because its difficult to classify cats any further than 'Short hair', 'Long hair', etc."
   ]
  },
  {
   "cell_type": "code",
   "execution_count": 33,
   "metadata": {},
   "outputs": [
    {
     "data": {
      "image/png": "[encoded data removed]",
      "text/plain": [
       "<Figure size 720x360 with 1 Axes>"
      ]
     },
     "metadata": {
      "needs_background": "light"
     },
     "output_type": "display_data"
    }
   ],
   "source": [
    "plt.figure(figsize= (10,5))\n",
    "df = shelterDf.sample(frac = 0.01).reset_index(drop=True)\n",
    "\n",
    "sns.countplot(shelterDf['Has Name'], hue = shelterDf['Was Adopted']).set_ylabel('Number of Animals')\n",
    "plt.show()"
   ]
  },
  {
   "cell_type": "markdown",
   "metadata": {},
   "source": [
    "It is clear that animals with names were much more likely to get adopted. This could be because a named animal is more likely to be well behaved and healthy, since it would likely have come from a home rather than the streets. However, there could also be cases were the shelter names found animals themselves. "
   ]
  },
  {
   "cell_type": "code",
   "execution_count": 34,
   "metadata": {},
   "outputs": [
    {
     "data": {
      "image/png": "[encoded data removed]",
      "text/plain": [
       "<Figure size 1224x360 with 2 Axes>"
      ]
     },
     "metadata": {
      "needs_background": "light"
     },
     "output_type": "display_data"
    }
   ],
   "source": [
    "f,axes = plt.subplots(ncols = 2, figsize = (17,5))\n",
    "sns.countplot(data = shelterDf, x = 'is male', hue = 'Was Adopted', ax = axes[0])\n",
    "sns.countplot(data = shelterDf, x = 'is fixed', hue = 'Was Adopted', ax = axes[1])\n",
    "axes[0].set_xlabel('Sex')\n",
    "axes[0].set_ylabel('Number of Animals')\n",
    "axes[0].set_xticklabels(['Female', 'Male'])\n",
    "axes[1].set_xlabel('Fixed')\n",
    "axes[1].set_ylabel('Number of Animals')\n",
    "axes[1].set_xticklabels(['Was not Fixed', 'Was Fixed'])\n",
    "\n",
    "plt.show()"
   ]
  },
  {
   "cell_type": "markdown",
   "metadata": {},
   "source": [
    "The sex of the animal doesnt seem to matter much in terms of adoption. In the 'Fixed' graph you can clearly see that very few animals that were adopted were not fixed. 'is fixed' will likely be a very strong predictor of animal adoption"
   ]
  },
  {
   "cell_type": "code",
   "execution_count": 35,
   "metadata": {},
   "outputs": [
    {
     "data": {
      "image/png": "[encoded data removed]",
      "text/plain": [
       "<Figure size 720x360 with 1 Axes>"
      ]
     },
     "metadata": {
      "needs_background": "light"
     },
     "output_type": "display_data"
    }
   ],
   "source": [
    "plt.figure(figsize = (10,5))\n",
    "sns.countplot(data = shelterDf, x = 'Animal Type', hue = 'Was Adopted')\n",
    "plt.ylabel('Number of Animals')\n",
    "plt.show()"
   ]
  },
  {
   "cell_type": "markdown",
   "metadata": {},
   "source": [
    "Adoption across based on Animal Type seems to be about the same with a little less than half of both cats and dogs being adopted."
   ]
  },
  {
   "cell_type": "code",
   "execution_count": 36,
   "metadata": {},
   "outputs": [
    {
     "name": "stderr",
     "output_type": "stream",
     "text": [
      "C:\\Users\\Mattm\\Anaconda3\\lib\\site-packages\\scipy\\stats\\stats.py:1713: FutureWarning: Using a non-tuple sequence for multidimensional indexing is deprecated; use `arr[tuple(seq)]` instead of `arr[seq]`. In the future this will be interpreted as an array index, `arr[np.array(seq)]`, which will result either in an error or a different result.\n",
      "  return np.add.reduce(sorted[indexer] * weights, axis=axis) / sumval\n"
     ]
    },
    {
     "data": {
      "image/png": "[encoded data removed]",
      "text/plain": [
       "<Figure size 578.25x504 with 1 Axes>"
      ]
     },
     "metadata": {
      "needs_background": "light"
     },
     "output_type": "display_data"
    }
   ],
   "source": [
    "f = sns.FacetGrid(shelterDf, hue=\"Was Adopted\", height=7)\n",
    "f.map(sns.kdeplot, \"Age upon Outcome\") \n",
    "f.add_legend()\n",
    "plt.show()"
   ]
  },
  {
   "cell_type": "markdown",
   "metadata": {},
   "source": [
    "Clear that majority of adoptions and outcomes in general happen when the animals are young. There is a peak at about the 2 year mark (730 days). This could be due to the shelter having an age limit when an animals needs to be adopted, transfered, etc. This will likely be a strong predictor for the later models."
   ]
  },
  {
   "cell_type": "markdown",
   "metadata": {},
   "source": [
    "**Preproccessing for machine learning**"
   ]
  },
  {
   "cell_type": "markdown",
   "metadata": {},
   "source": [
    "Based on the previous graphs 'Breed', 'Animal Type', and 'is male' dont seem to have a significant impact on whether an animal will be adopted so they will be dropped."
   ]
  },
  {
   "cell_type": "code",
   "execution_count": 37,
   "metadata": {},
   "outputs": [],
   "source": [
    "shelterDf.drop(['Animal Type', 'Breed', 'is male'], axis = 1, inplace = True)"
   ]
  },
  {
   "cell_type": "markdown",
   "metadata": {},
   "source": [
    "'Sex upon outcome' needs to be encoded to dummy variables to be used by a machine learning model"
   ]
  },
  {
   "cell_type": "code",
   "execution_count": 38,
   "metadata": {},
   "outputs": [
    {
     "data": {
      "text/html": [
       "<div>\n",
       "<style scoped>\n",
       "    .dataframe tbody tr th:only-of-type {\n",
       "        vertical-align: middle;\n",
       "    }\n",
       "\n",
       "    .dataframe tbody tr th {\n",
       "        vertical-align: top;\n",
       "    }\n",
       "\n",
       "    .dataframe thead th {\n",
       "        text-align: right;\n",
       "    }\n",
       "</style>\n",
       "<table border=\"1\" class=\"dataframe\">\n",
       "  <thead>\n",
       "    <tr style=\"text-align: right;\">\n",
       "      <th></th>\n",
       "      <th>Age upon Outcome</th>\n",
       "      <th>Was Adopted</th>\n",
       "      <th>Has Name</th>\n",
       "      <th>Month</th>\n",
       "      <th>Year</th>\n",
       "      <th>is fixed</th>\n",
       "    </tr>\n",
       "  </thead>\n",
       "  <tbody>\n",
       "    <tr>\n",
       "      <th>0</th>\n",
       "      <td>228</td>\n",
       "      <td>1</td>\n",
       "      <td>1</td>\n",
       "      <td>12</td>\n",
       "      <td>2018</td>\n",
       "      <td>0</td>\n",
       "    </tr>\n",
       "    <tr>\n",
       "      <th>1</th>\n",
       "      <td>61</td>\n",
       "      <td>1</td>\n",
       "      <td>0</td>\n",
       "      <td>12</td>\n",
       "      <td>2018</td>\n",
       "      <td>1</td>\n",
       "    </tr>\n",
       "    <tr>\n",
       "      <th>2</th>\n",
       "      <td>1096</td>\n",
       "      <td>1</td>\n",
       "      <td>1</td>\n",
       "      <td>12</td>\n",
       "      <td>2018</td>\n",
       "      <td>1</td>\n",
       "    </tr>\n",
       "  </tbody>\n",
       "</table>\n",
       "</div>"
      ],
      "text/plain": [
       "   Age upon Outcome  Was Adopted  Has Name  Month  Year  is fixed\n",
       "0               228            1         1     12  2018         0\n",
       "1                61            1         0     12  2018         1\n",
       "2              1096            1         1     12  2018         1"
      ]
     },
     "execution_count": 38,
     "metadata": {},
     "output_type": "execute_result"
    }
   ],
   "source": [
    "shelterDf.head(3)"
   ]
  },
  {
   "cell_type": "code",
   "execution_count": 39,
   "metadata": {
    "scrolled": false
   },
   "outputs": [
    {
     "name": "stdout",
     "output_type": "stream",
     "text": [
      "<class 'pandas.core.frame.DataFrame'>\n",
      "RangeIndex: 49964 entries, 0 to 49963\n",
      "Data columns (total 6 columns):\n",
      "Age upon Outcome    49964 non-null int64\n",
      "Was Adopted         49964 non-null int64\n",
      "Has Name            49964 non-null int64\n",
      "Month               49964 non-null int64\n",
      "Year                49964 non-null int64\n",
      "is fixed            49964 non-null int64\n",
      "dtypes: int64(6)\n",
      "memory usage: 2.3 MB\n"
     ]
    }
   ],
   "source": [
    "shelterDf.info()"
   ]
  },
  {
   "cell_type": "markdown",
   "metadata": {},
   "source": [
    "Standardize values of 'Month' and 'Age upon Outcome'"
   ]
  },
  {
   "cell_type": "code",
   "execution_count": 40,
   "metadata": {},
   "outputs": [],
   "source": [
    "from sklearn.preprocessing import StandardScaler"
   ]
  },
  {
   "cell_type": "code",
   "execution_count": 41,
   "metadata": {},
   "outputs": [],
   "source": [
    "scaler = StandardScaler()"
   ]
  },
  {
   "cell_type": "code",
   "execution_count": 42,
   "metadata": {
    "scrolled": true
   },
   "outputs": [
    {
     "name": "stderr",
     "output_type": "stream",
     "text": [
      "C:\\Users\\Mattm\\Anaconda3\\lib\\site-packages\\sklearn\\utils\\validation.py:595: DataConversionWarning: Data with input dtype int64 was converted to float64 by StandardScaler.\n",
      "  warnings.warn(msg, DataConversionWarning)\n",
      "C:\\Users\\Mattm\\Anaconda3\\lib\\site-packages\\sklearn\\utils\\validation.py:595: DataConversionWarning: Data with input dtype int64 was converted to float64 by StandardScaler.\n",
      "  warnings.warn(msg, DataConversionWarning)\n"
     ]
    }
   ],
   "source": [
    "shelterDf['Age upon Outcome'] = scaler.fit_transform(shelterDf['Age upon Outcome'].values.reshape(-1,1))"
   ]
  },
  {
   "cell_type": "code",
   "execution_count": 43,
   "metadata": {},
   "outputs": [
    {
     "name": "stderr",
     "output_type": "stream",
     "text": [
      "C:\\Users\\Mattm\\Anaconda3\\lib\\site-packages\\sklearn\\utils\\validation.py:595: DataConversionWarning: Data with input dtype int64 was converted to float64 by StandardScaler.\n",
      "  warnings.warn(msg, DataConversionWarning)\n",
      "C:\\Users\\Mattm\\Anaconda3\\lib\\site-packages\\sklearn\\utils\\validation.py:595: DataConversionWarning: Data with input dtype int64 was converted to float64 by StandardScaler.\n",
      "  warnings.warn(msg, DataConversionWarning)\n"
     ]
    }
   ],
   "source": [
    "shelterDf['Month'] = scaler.fit_transform(shelterDf['Month'].values.reshape(-1,1))"
   ]
  },
  {
   "cell_type": "code",
   "execution_count": 44,
   "metadata": {},
   "outputs": [
    {
     "name": "stderr",
     "output_type": "stream",
     "text": [
      "C:\\Users\\Mattm\\Anaconda3\\lib\\site-packages\\sklearn\\utils\\validation.py:595: DataConversionWarning: Data with input dtype int64 was converted to float64 by StandardScaler.\n",
      "  warnings.warn(msg, DataConversionWarning)\n",
      "C:\\Users\\Mattm\\Anaconda3\\lib\\site-packages\\sklearn\\utils\\validation.py:595: DataConversionWarning: Data with input dtype int64 was converted to float64 by StandardScaler.\n",
      "  warnings.warn(msg, DataConversionWarning)\n"
     ]
    }
   ],
   "source": [
    "shelterDf['Year'] = scaler.fit_transform(shelterDf['Year'].values.reshape(-1,1))"
   ]
  },
  {
   "cell_type": "code",
   "execution_count": 45,
   "metadata": {},
   "outputs": [
    {
     "data": {
      "text/html": [
       "<div>\n",
       "<style scoped>\n",
       "    .dataframe tbody tr th:only-of-type {\n",
       "        vertical-align: middle;\n",
       "    }\n",
       "\n",
       "    .dataframe tbody tr th {\n",
       "        vertical-align: top;\n",
       "    }\n",
       "\n",
       "    .dataframe thead th {\n",
       "        text-align: right;\n",
       "    }\n",
       "</style>\n",
       "<table border=\"1\" class=\"dataframe\">\n",
       "  <thead>\n",
       "    <tr style=\"text-align: right;\">\n",
       "      <th></th>\n",
       "      <th>Age upon Outcome</th>\n",
       "      <th>Was Adopted</th>\n",
       "      <th>Has Name</th>\n",
       "      <th>Month</th>\n",
       "      <th>Year</th>\n",
       "      <th>is fixed</th>\n",
       "    </tr>\n",
       "  </thead>\n",
       "  <tbody>\n",
       "    <tr>\n",
       "      <th>0</th>\n",
       "      <td>-0.477748</td>\n",
       "      <td>1</td>\n",
       "      <td>1</td>\n",
       "      <td>1.593411</td>\n",
       "      <td>1.440512</td>\n",
       "      <td>0</td>\n",
       "    </tr>\n",
       "    <tr>\n",
       "      <th>1</th>\n",
       "      <td>-0.637510</td>\n",
       "      <td>1</td>\n",
       "      <td>0</td>\n",
       "      <td>1.593411</td>\n",
       "      <td>1.440512</td>\n",
       "      <td>1</td>\n",
       "    </tr>\n",
       "    <tr>\n",
       "      <th>2</th>\n",
       "      <td>0.352631</td>\n",
       "      <td>1</td>\n",
       "      <td>1</td>\n",
       "      <td>1.593411</td>\n",
       "      <td>1.440512</td>\n",
       "      <td>1</td>\n",
       "    </tr>\n",
       "    <tr>\n",
       "      <th>3</th>\n",
       "      <td>0.543006</td>\n",
       "      <td>1</td>\n",
       "      <td>1</td>\n",
       "      <td>1.593411</td>\n",
       "      <td>1.440512</td>\n",
       "      <td>1</td>\n",
       "    </tr>\n",
       "    <tr>\n",
       "      <th>4</th>\n",
       "      <td>-0.342860</td>\n",
       "      <td>1</td>\n",
       "      <td>1</td>\n",
       "      <td>1.593411</td>\n",
       "      <td>1.440512</td>\n",
       "      <td>1</td>\n",
       "    </tr>\n",
       "  </tbody>\n",
       "</table>\n",
       "</div>"
      ],
      "text/plain": [
       "   Age upon Outcome  Was Adopted  Has Name     Month      Year  is fixed\n",
       "0         -0.477748            1         1  1.593411  1.440512         0\n",
       "1         -0.637510            1         0  1.593411  1.440512         1\n",
       "2          0.352631            1         1  1.593411  1.440512         1\n",
       "3          0.543006            1         1  1.593411  1.440512         1\n",
       "4         -0.342860            1         1  1.593411  1.440512         1"
      ]
     },
     "execution_count": 45,
     "metadata": {},
     "output_type": "execute_result"
    }
   ],
   "source": [
    "shelterDf.head()"
   ]
  },
  {
   "cell_type": "markdown",
   "metadata": {},
   "source": [
    "**Logistical Regression**"
   ]
  },
  {
   "cell_type": "code",
   "execution_count": 46,
   "metadata": {},
   "outputs": [],
   "source": [
    "from sklearn.model_selection import train_test_split"
   ]
  },
  {
   "cell_type": "code",
   "execution_count": 47,
   "metadata": {},
   "outputs": [],
   "source": [
    "X = shelterDf.drop(['Was Adopted'], axis =1)\n",
    "y = shelterDf['Was Adopted']"
   ]
  },
  {
   "cell_type": "code",
   "execution_count": 48,
   "metadata": {},
   "outputs": [],
   "source": [
    "X_train, X_test, y_train, y_test = train_test_split(X, y, test_size=0.3)"
   ]
  },
  {
   "cell_type": "code",
   "execution_count": 49,
   "metadata": {},
   "outputs": [],
   "source": [
    "from sklearn.linear_model import LogisticRegression"
   ]
  },
  {
   "cell_type": "code",
   "execution_count": 50,
   "metadata": {},
   "outputs": [],
   "source": [
    "logModel = LogisticRegression(solver='lbfgs')"
   ]
  },
  {
   "cell_type": "code",
   "execution_count": 51,
   "metadata": {},
   "outputs": [
    {
     "data": {
      "text/plain": [
       "LogisticRegression(C=1.0, class_weight=None, dual=False, fit_intercept=True,\n",
       "          intercept_scaling=1, max_iter=100, multi_class='warn',\n",
       "          n_jobs=None, penalty='l2', random_state=None, solver='lbfgs',\n",
       "          tol=0.0001, verbose=0, warm_start=False)"
      ]
     },
     "execution_count": 51,
     "metadata": {},
     "output_type": "execute_result"
    }
   ],
   "source": [
    "logModel.fit(X_train, y_train)"
   ]
  },
  {
   "cell_type": "code",
   "execution_count": 52,
   "metadata": {},
   "outputs": [],
   "source": [
    "predictions = logModel.predict(X_test)"
   ]
  },
  {
   "cell_type": "code",
   "execution_count": 53,
   "metadata": {},
   "outputs": [],
   "source": [
    "from sklearn.metrics import classification_report,confusion_matrix"
   ]
  },
  {
   "cell_type": "code",
   "execution_count": 54,
   "metadata": {},
   "outputs": [
    {
     "name": "stdout",
     "output_type": "stream",
     "text": [
      "              precision    recall  f1-score   support\n",
      "\n",
      "           0       0.85      0.66      0.74      7838\n",
      "           1       0.70      0.87      0.77      7152\n",
      "\n",
      "   micro avg       0.76      0.76      0.76     14990\n",
      "   macro avg       0.77      0.76      0.76     14990\n",
      "weighted avg       0.78      0.76      0.76     14990\n",
      "\n",
      "[[5166 2672]\n",
      " [ 944 6208]]\n"
     ]
    }
   ],
   "source": [
    "logClass = classification_report(y_test, predictions)\n",
    "logConf = confusion_matrix(y_test, predictions)\n",
    "\n",
    "print(logClass)\n",
    "print(logConf)"
   ]
  },
  {
   "cell_type": "code",
   "execution_count": 55,
   "metadata": {},
   "outputs": [
    {
     "name": "stdout",
     "output_type": "stream",
     "text": [
      "Model Accuracy: 76.0%\n"
     ]
    }
   ],
   "source": [
    "print('Model Accuracy: ' + str(round((5237 + 6203)/14990, 2)*100) + '%')"
   ]
  },
  {
   "cell_type": "raw",
   "metadata": {},
   "source": [
    "Logistical regression performed fairly well for this data set. An accuracy of 76% and average fl-score of 0.76 are pretty impressive. Although, the model does clearly overpredict the number of 'was adopted' by a substanial amount. \n",
    "\n",
    "Number of false 'was adopted' is siginificantly greater than the number of false 'was not adopted' so f1-score is a better assesment of the model performance than accuracy. "
   ]
  },
  {
   "cell_type": "markdown",
   "metadata": {},
   "source": [
    "**Cross Validation**\n",
    "\n",
    "Check to see if logistical regression will still perform well when using different training/test data"
   ]
  },
  {
   "cell_type": "code",
   "execution_count": 62,
   "metadata": {},
   "outputs": [],
   "source": [
    "from sklearn.model_selection import cross_val_score, cross_val_predict"
   ]
  },
  {
   "cell_type": "code",
   "execution_count": 59,
   "metadata": {},
   "outputs": [],
   "source": [
    "crossLogModel  = LogisticRegression(solver='lbfgs')"
   ]
  },
  {
   "cell_type": "code",
   "execution_count": 63,
   "metadata": {},
   "outputs": [],
   "source": [
    "crossPredict = cross_val_predict(crossLogModel, X, y, cv = 5)\n",
    "scores = cross_val_score(crossLogModel, X, y, cv=5, scoring= 'f1_micro')"
   ]
  },
  {
   "cell_type": "code",
   "execution_count": 64,
   "metadata": {},
   "outputs": [
    {
     "name": "stdout",
     "output_type": "stream",
     "text": [
      "              precision    recall  f1-score   support\n",
      "\n",
      "           0       0.80      0.69      0.74     26246\n",
      "           1       0.70      0.81      0.75     23718\n",
      "\n",
      "   micro avg       0.75      0.75      0.75     49964\n",
      "   macro avg       0.75      0.75      0.75     49964\n",
      "weighted avg       0.75      0.75      0.75     49964\n",
      "\n"
     ]
    }
   ],
   "source": [
    "print(classification_report(y, crossPredict))"
   ]
  },
  {
   "cell_type": "code",
   "execution_count": 61,
   "metadata": {},
   "outputs": [
    {
     "name": "stdout",
     "output_type": "stream",
     "text": [
      "fl-score: 0.75 (+/- 0.06)\n"
     ]
    }
   ],
   "source": [
    "print(\"fl-score: %0.2f (+/- %0.2f)\" % (scores.mean(), scores.std() * 2))"
   ]
  },
  {
   "cell_type": "markdown",
   "metadata": {},
   "source": [
    "**Conclusion**"
   ]
  },
  {
   "cell_type": "markdown",
   "metadata": {},
   "source": [
    "Given how subjective some of the data we were given from this data set, Logistical Regression was still fairly accurate with an acuraccy of ~0.75. One improvement that could be made on this project would be feature engineering the 'breed' and 'color' features. For example, you could combine combine 'Brown/Black', 'Brown', 'Brown/White/Orange' all into one binary feature 'Is brown' and see if that has any relation with adoptions but I doubt an animals color is too important when someone is considering adoption.\n",
    "\n",
    "Furthermore, if you wanted to predict multiple outcomes other than just adoption such as Adoption, Transfer, Other then this project could easily be modified to do so by not combining all non-adoption outcomes. However, based on the results of only trying to predict adoption I find it likely the predictions will be very innacurate."
   ]
  },
  {
   "cell_type": "code",
   "execution_count": null,
   "metadata": {},
   "outputs": [],
   "source": []
  }
 ],
 "metadata": {
  "kernelspec": {
   "display_name": "Python 3",
   "language": "python",
   "name": "python3"
  },
  "language_info": {
   "codemirror_mode": {
    "name": "ipython",
    "version": 3
   },
   "file_extension": ".py",
   "mimetype": "text/x-python",
   "name": "python",
   "nbconvert_exporter": "python",
   "pygments_lexer": "ipython3",
   "version": "3.7.0"
  }
 },
 "nbformat": 4,
 "nbformat_minor": 2
}
